{
 "cells": [
  {
   "cell_type": "markdown",
   "metadata": {
    "toc": true
   },
   "source": [
    "<h1>Statistical data analysis with Pandas and Pingouin (extended)<span class=\"tocSkip\"></span></h1>\n",
    "<div class=\"toc\"><ul class=\"toc-item\"><li><span><a href=\"#Exercise-1:-Create-some-dummy-data-samples\" data-toc-modified-id=\"Exercise-1:-Create-some-dummy-data-samples-1\"><span class=\"toc-item-num\">1&nbsp;&nbsp;</span>Exercise 1: Create some dummy data samples</a></span></li><li><span><a href=\"#Statistical-signficance-test\" data-toc-modified-id=\"Statistical-signficance-test-2\"><span class=\"toc-item-num\">2&nbsp;&nbsp;</span>Statistical signficance test</a></span></li><li><span><a href=\"#Exercise-2\" data-toc-modified-id=\"Exercise-2-3\"><span class=\"toc-item-num\">3&nbsp;&nbsp;</span>Exercise 2</a></span></li><li><span><a href=\"#Let's-apply-the-analysis-to-real-world-data\" data-toc-modified-id=\"Let's-apply-the-analysis-to-real-world-data-4\"><span class=\"toc-item-num\">4&nbsp;&nbsp;</span>Let's apply the analysis to real world data</a></span></li><li><span><a href=\"#A-few-Pandas-basics\" data-toc-modified-id=\"A-few-Pandas-basics-5\"><span class=\"toc-item-num\">5&nbsp;&nbsp;</span>A few Pandas basics</a></span></li><li><span><a href=\"#Exercise-3\" data-toc-modified-id=\"Exercise-3-6\"><span class=\"toc-item-num\">6&nbsp;&nbsp;</span>Exercise 3</a></span></li><li><span><a href=\"#Exercise-4:-Extended-real-world-data-example\" data-toc-modified-id=\"Exercise-4:-Extended-real-world-data-example-7\"><span class=\"toc-item-num\">7&nbsp;&nbsp;</span>Exercise 4: Extended real world data example</a></span></li><li><span><a href=\"#Outlook\" data-toc-modified-id=\"Outlook-8\"><span class=\"toc-item-num\">8&nbsp;&nbsp;</span>Outlook</a></span></li></ul></div>"
   ]
  },
  {
   "cell_type": "markdown",
   "metadata": {},
   "source": [
    "This chapter is an extension of the [_Statistical data analysis with Pingouin_](https://www.fabriziomusacchio.com/teaching/python_course/13_pingouin) chapter from the [_Python Basics_](https://www.fabriziomusacchio.com/teaching/python_course/) course. \n",
    "\n",
    "We start again from scratch and first create an artificial test data set:"
   ]
  },
  {
   "cell_type": "markdown",
   "metadata": {},
   "source": [
    "## Exercise 1: Create some dummy data samples\n",
    "\n",
    "1. Create a new script and define the following [_NumPy_](https://www.fabriziomusacchio.com/teaching/python_course/10_numpy) arrays as dummy data arrays:\n",
    "```python\n",
    "np.random.seed(1)\n",
    "Group_A = np.random.randn(10) * 10 + 5\n",
    "Group_B = np.random.randn(10) * 10 + 2\n",
    "```\n",
    "2. Plot the averages of `Group_A` and `Group_B` in a bar-plot in a new figure window:\n",
    "    - use the plot command:\n",
    "    \n",
    "        `plt.bar([1, 2], [\"Mean of Group A\", \"Mean of Group B\"])`. \n",
    "       \n",
    "       Hint: \"_Mean of Group A_\" and \"_Mean of Group B_\" are just placeholders! Replace this with the according _NumPy_ averaging command :-)\n",
    "    - define the x-tick labels via `plt.xticks([1,2], labels=[\"A\", \"B\"])`\n",
    "    - add appropriate _x_- and _y_-labels and a title to your plot. \n",
    "    - save your plot as a PDF.\n",
    "3. Plot the values of `Group_A` and `Group_B`, respectively, in a boxplot in another figure window:\n",
    "    - set the figure aspect ratio to 5x6 via `fig=plt.figure(2, figsize=(5,6))`\n",
    "    - use the plot command `plt.boxplot([Group_A, Group_B])`\n",
    "    - define the x-tick labels as in 2.\n",
    "    - add appropriate _x_- and _y_-labels and a title to your plot. \n",
    "    - save your plot as a PDF.\n",
    "4.  Same as 3., but now use the command `plt.violinplot([Group_A, Group_B], showmedians=True)` to plot a violin plot in another figure."
   ]
  },
  {
   "cell_type": "code",
   "execution_count": 2,
   "metadata": {
    "code_folding": []
   },
   "outputs": [
    {
     "data": {
      "image/png": "[encoded data removed]",
      "text/plain": [
       "<Figure size 432x288 with 1 Axes>"
      ]
     },
     "metadata": {
      "needs_background": "light"
     },
     "output_type": "display_data"
    }
   ],
   "source": [
    "# Your solution 1.1-1.2 here\n"
   ]
  },
  {
   "cell_type": "markdown",
   "metadata": {},
   "source": [
    "<details>\n",
    "<summary><strong>Toggle solution</strong></summary>\n",
    "\n",
    "~~~python\n",
    "# Solution 2.1\n",
    "import numpy as np\n",
    "import matplotlib.pyplot as plt\n",
    "\n",
    "# Generate some random dummy data:\n",
    "np.random.seed(1)\n",
    "Group_A = np.random.randn(10)*10+5\n",
    "Group_B = np.random.randn(10)*10+2\n",
    "\n",
    "# Solution 2.2\n",
    "fig=plt.figure(1)\n",
    "fig.clf()\n",
    "\n",
    "plt.bar([1, 2], [Group_A.mean(), Group_B.mean()])\n",
    "\n",
    "plt.xticks([1,2], labels=[\"A\", \"B\"])\n",
    "plt.xlabel(\"Groups\")\n",
    "plt.ylabel(\"measurments\")\n",
    "plt.title(\"Bar-plot of group averages\")\n",
    "\n",
    "plt.tight_layout\n",
    "plt.show()\n",
    "fig.savefig(\"barplot.pdf\", dpi=120)\n",
    "~~~\n",
    "</details>"
   ]
  },
  {
   "cell_type": "markdown",
   "metadata": {},
   "source": [
    "<br>"
   ]
  },
  {
   "cell_type": "code",
   "execution_count": 3,
   "metadata": {
    "code_folding": []
   },
   "outputs": [
    {
     "data": {
      "image/png": "[encoded data removed]",
      "text/plain": [
       "<Figure size 360x432 with 1 Axes>"
      ]
     },
     "metadata": {
      "needs_background": "light"
     },
     "output_type": "display_data"
    }
   ],
   "source": [
    "# Your solution 1.3 here:\n"
   ]
  },
  {
   "cell_type": "markdown",
   "metadata": {},
   "source": [
    "<details>\n",
    "<summary><strong>Toggle solution</strong></summary>\n",
    "\n",
    "~~~python\n",
    "# Solution 1.3:\n",
    "fig=plt.figure(3, figsize=(5,6))\n",
    "fig.clf()\n",
    "\n",
    "#x_ticks_A = np.ones(len(Group_A))\n",
    "#x_ticks_B = np.ones(len(Group_B))\n",
    "\n",
    "plt.boxplot([Group_A, Group_B])\n",
    "\n",
    "plt.xticks([1,2], labels=[\"A\", \"B\"])\n",
    "plt.xlabel(\"Groups\")\n",
    "plt.ylabel(\"measurments\")\n",
    "plt.title(\"Boxplot diagram\")\n",
    "\n",
    "plt.tight_layout\n",
    "plt.show()\n",
    "fig.savefig(\"boxlot.pdf\", dpi=120)\n",
    "~~~\n",
    "</details>"
   ]
  },
  {
   "cell_type": "markdown",
   "metadata": {},
   "source": [
    "<br>"
   ]
  },
  {
   "cell_type": "code",
   "execution_count": 4,
   "metadata": {
    "code_folding": [],
    "scrolled": false
   },
   "outputs": [
    {
     "data": {
      "image/png": "[encoded data removed]",
      "text/plain": [
       "<Figure size 360x432 with 1 Axes>"
      ]
     },
     "metadata": {
      "needs_background": "light"
     },
     "output_type": "display_data"
    }
   ],
   "source": [
    "# Your solution 1.4 here:\n"
   ]
  },
  {
   "cell_type": "markdown",
   "metadata": {},
   "source": [
    "<details>\n",
    "<summary><strong>Toggle solution</strong></summary>\n",
    "\n",
    "~~~python\n",
    "# Solution 1.4\n",
    "fig=plt.figure(3, figsize=(5,6))\n",
    "fig.clf()\n",
    "\n",
    "#x_ticks_A = np.ones(len(Group_A))\n",
    "#x_ticks_B = np.ones(len(Group_B))\n",
    "\n",
    "plt.violinplot([Group_A, Group_B], showmedians=True)\n",
    "plt.boxplot([Group_A, Group_B])\n",
    "\n",
    "plt.xticks([1,2], labels=[\"A\", \"B\"])\n",
    "plt.xlabel(\"Groups\")\n",
    "plt.ylabel(\"measurments\")\n",
    "plt.title(\"Violin plot\")\n",
    "\n",
    "plt.tight_layout\n",
    "plt.xlim(0.5, 2.5)\n",
    "plt.ylim(-40, 40)\n",
    "\n",
    "plt.show()\n",
    "fig.savefig(\"violinplot.pdf\", dpi=120)\n",
    "~~~\n",
    "</details>"
   ]
  },
  {
   "cell_type": "markdown",
   "metadata": {},
   "source": [
    "<br>"
   ]
  },
  {
   "cell_type": "markdown",
   "metadata": {},
   "source": [
    "## Statistical signficance test"
   ]
  },
  {
   "cell_type": "markdown",
   "metadata": {},
   "source": [
    "We would like to know, whether the difference between the two groups is significant or not. \n",
    "\n",
    "To perform a significance test in _Python_ we use [_Pingouin_](https://pingouin-stats.org), a compact package that provides the most important test tools for a significance study. "
   ]
  },
  {
   "cell_type": "markdown",
   "metadata": {},
   "source": [
    "![img/pingouin.png](img/pingouin.png)"
   ]
  },
  {
   "cell_type": "markdown",
   "metadata": {},
   "source": [
    "<div class=\"alert alert-block alert-info\">\n",
    "<b>Info</b>: It is worth visiting the [_Pingouin_ website](https://pingouin-stats.org). It provides a very good overview of available significance tests and also a decision tree that helps selecting the correct test for the respective data set.\n",
    "</div>"
   ]
  },
  {
   "cell_type": "markdown",
   "metadata": {},
   "source": [
    "Screenshots from [pingouin-stats.org/guidelines.html](https://pingouin-stats.org/guidelines.html) (taken on March 2, 2021):\n",
    "![img/pingouin.png](img/pingouin_1.png)\n",
    "![img/pingouin.png](img/pingouin_2.png)"
   ]
  },
  {
   "cell_type": "markdown",
   "metadata": {},
   "source": [
    "Let's assume that our data is normally distributed and the two samples are independent. The corresponding test would be an unpaired, two-sample student's t-test. The corresponding Pingouin command is:"
   ]
  },
  {
   "cell_type": "code",
   "execution_count": 6,
   "metadata": {},
   "outputs": [
    {
     "data": {
      "text/html": [
       "<div>\n",
       "<style scoped>\n",
       "    .dataframe tbody tr th:only-of-type {\n",
       "        vertical-align: middle;\n",
       "    }\n",
       "\n",
       "    .dataframe tbody tr th {\n",
       "        vertical-align: top;\n",
       "    }\n",
       "\n",
       "    .dataframe thead th {\n",
       "        text-align: right;\n",
       "    }\n",
       "</style>\n",
       "<table border=\"1\" class=\"dataframe\">\n",
       "  <thead>\n",
       "    <tr style=\"text-align: right;\">\n",
       "      <th></th>\n",
       "      <th>T</th>\n",
       "      <th>dof</th>\n",
       "      <th>tail</th>\n",
       "      <th>p-val</th>\n",
       "      <th>CI95%</th>\n",
       "      <th>cohen-d</th>\n",
       "      <th>BF10</th>\n",
       "      <th>power</th>\n",
       "    </tr>\n",
       "  </thead>\n",
       "  <tbody>\n",
       "    <tr>\n",
       "      <th>T-test</th>\n",
       "      <td>0.718772</td>\n",
       "      <td>18</td>\n",
       "      <td>two-sided</td>\n",
       "      <td>0.481509</td>\n",
       "      <td>[-7.16, 14.61]</td>\n",
       "      <td>0.321445</td>\n",
       "      <td>0.477</td>\n",
       "      <td>0.104604</td>\n",
       "    </tr>\n",
       "  </tbody>\n",
       "</table>\n",
       "</div>"
      ],
      "text/plain": [
       "               T  dof       tail     p-val           CI95%   cohen-d   BF10  \\\n",
       "T-test  0.718772   18  two-sided  0.481509  [-7.16, 14.61]  0.321445  0.477   \n",
       "\n",
       "           power  \n",
       "T-test  0.104604  "
      ]
     },
     "execution_count": 6,
     "metadata": {},
     "output_type": "execute_result"
    }
   ],
   "source": [
    "import pingouin as pg\n",
    "test_result = pg.ttest(Group_A, Group_B, paired=False)\n",
    "#print(test_result)\n",
    "pg.ttest(Group_A, Group_B, paired=False)"
   ]
  },
  {
   "cell_type": "markdown",
   "metadata": {},
   "source": [
    "As we can see, the output of _Pingouin_ is not just a single value, e.g., the p-value, but a table of useful statistical properties:\n",
    "- `T` : _T_-value\n",
    "- `p-val` : _p_-value\n",
    "- `dof` : degrees of freedom\n",
    "- `cohen-d` : [Cohen's _d_ effect size](https://en.wikipedia.org/wiki/Effect_size)\n",
    "- `CI95%` : 95% confidence intervals of the difference in means\n",
    "- `power` : achieved power of the test ( = 1 - type II error)\n",
    "- `BF10` : Bayes Factor of the alternative hypothesis"
   ]
  },
  {
   "cell_type": "markdown",
   "metadata": {},
   "source": [
    "To be more correct, this output is actually a so-called [_Pandas_](https://www.fabriziomusacchio.com/teaching/python_course/12_pandas) _DataFrame_, a type of variable construct. _Pandas_ DataFrames are a handy and powerful representation of tables in _Python_, which has - similar to a 2D [_NumPy_](https://www.fabriziomusacchio.com/teaching/python_course/10_numpy) array - rows and columns, that can be directly accessed via their column names, called `key` (similar to the keys of [dictionaries](https://www.fabriziomusacchio.com/teaching/python_course/04_variables#dictionaries)). In very long tables/DataFrames, by default not all columns/keys are shown. To get a list of all available keys, use the following command: `DataFrame.keys()`"
   ]
  },
  {
   "cell_type": "code",
   "execution_count": 7,
   "metadata": {},
   "outputs": [
    {
     "name": "stdout",
     "output_type": "stream",
     "text": [
      "Index(['T', 'dof', 'tail', 'p-val', 'CI95%', 'cohen-d', 'BF10', 'power'], dtype='object')\n"
     ]
    }
   ],
   "source": [
    "# show all keys of the test_result DataFrame:\n",
    "print(test_result.keys())"
   ]
  },
  {
   "cell_type": "markdown",
   "metadata": {},
   "source": [
    "To access a specific column/key, just use the same syntax as for [dictionaries](https://www.fabriziomusacchio.com/teaching/python_course/04_variables#dictionaries) and add `.values` (in order to extract the values from the DataFrame structure and retrieve a _NumPy_ array):"
   ]
  },
  {
   "cell_type": "code",
   "execution_count": 7,
   "metadata": {},
   "outputs": [
    {
     "name": "stdout",
     "output_type": "stream",
     "text": [
      "the p-value of our test is: [0.48150881]\n"
     ]
    }
   ],
   "source": [
    "print(f\"the p-value of our test is:\", \n",
    "      f\"{test_result['p-val'].values}\")"
   ]
  },
  {
   "cell_type": "markdown",
   "metadata": {},
   "source": [
    "## Exercise 2\n",
    "\n",
    "Add a new cell to the script of the solution from Exercise 1. In the new cell, extend your script by the following functions:\n",
    "    \n",
    "1. Write an [_if_-statement](https://www.fabriziomusacchio.com/teaching/python_course/08_if_conditions) that checks whether the p-value of the significance test is lower or greater than 0.05. If the p-value is lower, then print out \"_there is a significant difference_\" together with the according p-value. Otherwise print out \"_no significant difference_\", again, together with the according p-value.\n",
    "2. Extent your _if_-statement, so that also Cohen's _d_ effect size is printed out, but only if the p-value indicates a significant difference.\n",
    "3. Plug both, the significance test and your written _if_-statement into a function called `normal_unpaired_sigtest(A, B)`, which also returns the p-value back to your main script.\n",
    "4. In your main script, call your newly created function with the `Group_A` and `Group_B` data.\n",
    "5. Modify the `Group_A` definition by `Group_A = np.random.randn(10)*10+15` and re-run your script.\n",
    "6. Create another function for the two-sample, non-parametric, un-paired signficance test:\n",
    "    - visit [pingouin-stats.org/guidelines.html](https://pingouin-stats.org/guidelines.html) to find the appropriate test\n",
    "    - copy your function from 2. and rename the copy to `notnormal_unpaired_sigtest(A, B)`\n",
    "    - adjust the significance test according to your website search result."
   ]
  },
  {
   "cell_type": "code",
   "execution_count": 8,
   "metadata": {
    "code_folding": []
   },
   "outputs": [
    {
     "name": "stdout",
     "output_type": "stream",
     "text": [
      "no significant difference (p-value: [0.48150881])\n"
     ]
    }
   ],
   "source": [
    "# Your solution 2.2 - 2.4:\n"
   ]
  },
  {
   "cell_type": "markdown",
   "metadata": {},
   "source": [
    "<details>\n",
    "<summary><strong>Toggle solution</strong></summary>\n",
    "\n",
    "~~~python\n",
    "# Solution 2.2 - 2.4:\n",
    "def normal_unpaired_sigtest(A, B):\n",
    "    test_result = pg.ttest(A, B, paired=False)\n",
    "    p_value = test_result[\"p-val\"].values\n",
    "    cohen_d = test_result[\"cohen-d\"].values\n",
    "\n",
    "    if p_value>0.05:\n",
    "        print(f\"no significant difference (p-value: {p_value})\")\n",
    "    else:\n",
    "        print(f\"here is a significant difference \"\n",
    "              f\"(p-value: {p_value}, cohen-d:{cohen_d})\")\n",
    "\n",
    "    return p_value\n",
    "\n",
    "pvalue = normal_unpaired_sigtest(Group_A, Group_B)\n",
    "~~~\n",
    "</details>"
   ]
  },
  {
   "cell_type": "markdown",
   "metadata": {},
   "source": [
    "<br>"
   ]
  },
  {
   "cell_type": "code",
   "execution_count": 13,
   "metadata": {
    "code_folding": [],
    "scrolled": true
   },
   "outputs": [
    {
     "name": "stdout",
     "output_type": "stream",
     "text": [
      "no significant difference (p-value: [0.42735531])\n"
     ]
    }
   ],
   "source": [
    "# Your solution 2.6 here:\n"
   ]
  },
  {
   "cell_type": "markdown",
   "metadata": {},
   "source": [
    "<details>\n",
    "<summary><strong>Toggle solution</strong></summary>\n",
    "\n",
    "~~~python\n",
    "# Solution 2.6:\n",
    "def notnormal_unpaired_sigtest(A, B):\n",
    "    test_result = pg.mwu(A, B)\n",
    "    p_value = test_result[\"p-val\"].values\n",
    "\n",
    "    if p_value>0.05:\n",
    "        print(f\"no significant difference (p-value: {p_value})\")\n",
    "    else:\n",
    "        print(f\"here is a significant difference \"\n",
    "              f\"(p-value: {p_value})\")\n",
    "\n",
    "    return p_value\n",
    "\n",
    "pvalue = notnormal_unpaired_sigtest(Group_A, Group_B)\n",
    "~~~\n",
    "</details>"
   ]
  },
  {
   "cell_type": "markdown",
   "metadata": {
    "code_folding": []
   },
   "source": [
    "<details>\n",
    "<summary><strong>Toggle full code solution</strong></summary>\n",
    "\n",
    "~~~python\n",
    "# Solution 2 (full code):\n",
    "import numpy as np\n",
    "import matplotlib.pyplot as plt\n",
    "\n",
    "# %% Generate some random dummy data:\n",
    "np.random.seed(1)\n",
    "Group_A = np.random.randn(10)*10+5\n",
    "Group_B = np.random.randn(10)*10+2\n",
    "Group_B2= np.random.randn(10)*10+20\n",
    "\n",
    "# %% FUNCTION DEFINITION\n",
    "\"\"\"not a rule, but usually you place functions at the beginning\n",
    "   of your script (e.g. after the imports) to a) quickly find \n",
    "   them and b) they have to be defined before their first call.\n",
    "\"\"\"\n",
    "\n",
    "def normal_unpaired_sigtest(A, B):\n",
    "    test_result = pg.ttest(A, B, paired=False)\n",
    "    p_value = test_result[\"p-val\"].values\n",
    "    cohen_d = test_result[\"cohen-d\"].values\n",
    "\n",
    "    if p_value>0.05:\n",
    "        print(f\"no significant difference (p-value: {p_value})\")\n",
    "    else:\n",
    "        print(f\"here is a significant difference \"\n",
    "              f\"(p-value: {p_value}, cohen-d:{cohen_d})\")\n",
    "\n",
    "    return p_value, cohen_d\n",
    "\n",
    "def notnormal_unpaired_sigtest(A, B):\n",
    "    test_result = pg.mwu(A, B)\n",
    "    p_value = test_result[\"p-val\"].values\n",
    "\n",
    "    if p_value>0.05:\n",
    "        print(f\"no significant difference (p-value: {p_value})\")\n",
    "    else:\n",
    "        print(f\"here is a significant difference \"\n",
    "              f\"(p-value: {p_value})\")\n",
    "\n",
    "    return p_value\n",
    "\n",
    "\n",
    "# %% PLOTS\n",
    "\n",
    "# BAR-PLOT:\n",
    "fig=plt.figure(1)\n",
    "fig.clf()\n",
    "\n",
    "plt.bar([1, 2], [Group_A.mean(), Group_B.mean()])\n",
    "\n",
    "plt.xticks([1,2], labels=[\"A\", \"B\"])\n",
    "plt.xlabel(\"Groups\")\n",
    "plt.ylabel(\"measurments\")\n",
    "plt.title(\"Bar-plot of group averages\")\n",
    "\n",
    "plt.tight_layout\n",
    "plt.show()\n",
    "\n",
    "# VIOLIN-PLOTS:\n",
    "def my_violin_AB_plot(A, B, A_label=\"A\", B_label=\"B\",\n",
    "                     title=\"\"):\n",
    "    \"\"\" This is Group A vs Group B Violin plot function.\n",
    "        Written by me on 2021, April\n",
    "        \n",
    "        A     Group A sample data\n",
    "        B     Group B sample data\n",
    "        A_label....\n",
    "    \"\"\"\n",
    "    fig=plt.figure(3, figsize=(5,6))\n",
    "    fig.clf()\n",
    "\n",
    "    x_ticks_A = np.ones(len(A))\n",
    "    x_ticks_B = np.ones(len(B))\n",
    "\n",
    "    plt.violinplot([A, B], showmedians=True)\n",
    "    plt.boxplot([A, B])\n",
    "    plt.xticks([1,2], labels=[A_label, B_label])\n",
    "    plt.xlabel(\"Groups\")\n",
    "    plt.ylabel(\"measurments\")\n",
    "    plt.title(title)\n",
    "    plt.tight_layout\n",
    "    # plt.ylim(-40, 40)\n",
    "    \n",
    "    # some add-on commands (remove some borders):\n",
    "    axis = plt.gca()\n",
    "    axis.spines['right'].set_visible(False)\n",
    "    axis.spines['top'].set_visible(False)\n",
    "    axis.spines['bottom'].set_visible(False)\n",
    "    axis.spines['left'].set_visible(False)\n",
    "    \n",
    "    plt.show()\n",
    "\n",
    "\"\"\" OLD:\n",
    "    fig=plt.figure(3, figsize=(5,6))\n",
    "    fig.clf()\n",
    "\n",
    "    x_ticks_A = np.ones(len(Group_A))\n",
    "    x_ticks_B = np.ones(len(Group_B))\n",
    "\n",
    "    plt.violinplot([Group_A, Group_B], showmedians=True)\n",
    "    plt.xticks([1,2], labels=[\"A\", \"B\"])\n",
    "    plt.xlabel(\"Groups\")\n",
    "    plt.ylabel(\"measurments\")\n",
    "    plt.title(\"Violin plot\")\n",
    "    plt.tight_layout\n",
    "    # plt.ylim(-40, 40)\n",
    "    plt.show()\n",
    "\"\"\"\n",
    "\n",
    "# Group A vs B:\n",
    "my_violin_AB_plot(A=Group_A, B=Group_B, A_label=\"A\", B_label=\"B\",\n",
    "                     title=\"Group A vs. B\")\n",
    "pvalue_1, cohen_d_1 = normal_unpaired_sigtest(Group_A, Group_B)\n",
    "\n",
    "# Group A vs B2:\n",
    "my_violin_AB_plot(A=Group_A, B=Group_B2, A_label=\"A\", \n",
    "                     B_label=\"B 2\", title=\"Group A vs. B2\")\n",
    "pvalue_3, cohen_d_3 = normal_unpaired_sigtest(Group_A, Group_B2)\n",
    "\n",
    "\n",
    "# SIGNIFICANCE TEST: \n",
    "#pvalue_1, cohen_d_1 = normal_unpaired_sigtest(Group_A, Group_B)\n",
    "#pvalue_2 = notnormal_unpaired_sigtest(Group_A, Group_B)\n",
    "\n",
    "#pvalue_3, cohen_d_3 = normal_unpaired_sigtest(Group_A, Group_B2)\n",
    "\n",
    "#print(f\"again p-value1: {pvalue_1} and cohen's 1: {cohen_d_1}\")\n",
    "~~~\n",
    "</details>"
   ]
  },
  {
   "cell_type": "markdown",
   "metadata": {},
   "source": [
    "<br>\n",
    "\n",
    "## Let's apply the analysis to real world data"
   ]
  },
  {
   "cell_type": "markdown",
   "metadata": {},
   "source": [
    "In order to import some data, which are stored in _Excel_ files, we use the [_Pandas_](https://www.fabriziomusacchio.com/teaching/python_course/12_pandas) command `pd.read_excel(path_to_file, index_col=0)`:"
   ]
  },
  {
   "cell_type": "code",
   "execution_count": 13,
   "metadata": {
    "code_folding": []
   },
   "outputs": [
    {
     "data": {
      "text/html": [
       "<div>\n",
       "<style scoped>\n",
       "    .dataframe tbody tr th:only-of-type {\n",
       "        vertical-align: middle;\n",
       "    }\n",
       "\n",
       "    .dataframe tbody tr th {\n",
       "        vertical-align: top;\n",
       "    }\n",
       "\n",
       "    .dataframe thead th {\n",
       "        text-align: right;\n",
       "    }\n",
       "</style>\n",
       "<table border=\"1\" class=\"dataframe\">\n",
       "  <thead>\n",
       "    <tr style=\"text-align: right;\">\n",
       "      <th></th>\n",
       "      <th>Data</th>\n",
       "    </tr>\n",
       "  </thead>\n",
       "  <tbody>\n",
       "    <tr>\n",
       "      <th>0</th>\n",
       "      <td>18.074201</td>\n",
       "    </tr>\n",
       "    <tr>\n",
       "      <th>1</th>\n",
       "      <td>13.086849</td>\n",
       "    </tr>\n",
       "    <tr>\n",
       "      <th>2</th>\n",
       "      <td>2.272670</td>\n",
       "    </tr>\n",
       "    <tr>\n",
       "      <th>3</th>\n",
       "      <td>20.283832</td>\n",
       "    </tr>\n",
       "    <tr>\n",
       "      <th>4</th>\n",
       "      <td>26.357661</td>\n",
       "    </tr>\n",
       "    <tr>\n",
       "      <th>5</th>\n",
       "      <td>45.342706</td>\n",
       "    </tr>\n",
       "    <tr>\n",
       "      <th>6</th>\n",
       "      <td>47.139108</td>\n",
       "    </tr>\n",
       "    <tr>\n",
       "      <th>7</th>\n",
       "      <td>1.427794</td>\n",
       "    </tr>\n",
       "    <tr>\n",
       "      <th>8</th>\n",
       "      <td>7.846927</td>\n",
       "    </tr>\n",
       "    <tr>\n",
       "      <th>9</th>\n",
       "      <td>26.665037</td>\n",
       "    </tr>\n",
       "  </tbody>\n",
       "</table>\n",
       "</div>"
      ],
      "text/plain": [
       "        Data\n",
       "0  18.074201\n",
       "1  13.086849\n",
       "2   2.272670\n",
       "3  20.283832\n",
       "4  26.357661\n",
       "5  45.342706\n",
       "6  47.139108\n",
       "7   1.427794\n",
       "8   7.846927\n",
       "9  26.665037"
      ]
     },
     "execution_count": 13,
     "metadata": {},
     "output_type": "execute_result"
    }
   ],
   "source": [
    "import pandas as pd\n",
    "import os\n",
    "\n",
    "import numpy as np\n",
    "import matplotlib.pyplot as plt\n",
    "import pingouin as pg\n",
    "\n",
    "# Define file paths:\n",
    "file_path = \"Data/Pandas_1/\"  \n",
    "\n",
    "\"\"\" file_path is the main root path. \n",
    "    \n",
    "    The definition above is a so-called relative file path -\n",
    "    relative from the folder, that contains the script you \n",
    "    are currently executing.\n",
    "    \n",
    "    A so-called absolute path (and therefore indepenent from\n",
    "    your script's folder) can be defined as follows:\n",
    "    \n",
    "    file_path = \"/Users/Fabrizio/Python/Kurs/Data/Pandas_1/\"\n",
    "    \n",
    "    or\n",
    "    \n",
    "    file_path = \"C:/Users/Fabrizio/Python/Kurs/Data/Pandas_1/\"\n",
    "    \n",
    "    (adjust this to the absolute path on YOUR machine!)\n",
    "\"\"\"\n",
    "\n",
    "file_name_1 = \"Group_A_data.xls\"\n",
    "file_name_2 = \"Group_B_data.xls\"\n",
    "  \n",
    "file_1 = os.path.join(file_path, file_name_1) \n",
    "#  actually it does: file_1 = file_path + file_name_1\n",
    "file_2 = os.path.join(file_path, file_name_2)\n",
    "\n",
    "\"\"\" The os.path.join() command just sticks the different \n",
    "    file-path components together. You can also just write:\n",
    "    \n",
    "    file_1 = file_path + file_name_1\n",
    "    file_2 = file_path + file_name_2\n",
    "    \n",
    "    Never forget to put the requiered '/' at the end of \n",
    "    the file_path defintion::\n",
    "       \n",
    "       file_path = \"Data/Pandas_1/\"  ⟵ okay\n",
    "       file_path = \"Data/Pandas_1\"   ⟵ not okay\n",
    "\"\"\"\n",
    "\n",
    "# Read the Excel files with Pandas into a Pandas Dataframe:\n",
    "Group_A_df = pd.read_excel(file_1, index_col=0)\n",
    "Group_B_df = pd.read_excel(file_2, index_col=0)\n",
    "\n",
    "# some print test:\n",
    "Group_A_df.iloc[0:10] # with the iloc command we can access\n",
    "                      # DataFrame rows by standard indexing and\n",
    "                      # slicing rules. Here, we didn't want to\n",
    "                      # print out all rows of the DataFrame.\n",
    "#print(Group_A_df.iloc[0:10])"
   ]
  },
  {
   "cell_type": "markdown",
   "metadata": {},
   "source": [
    "The two _Excel_ files are imported as DataFrames into `Group_A_df` and `Group_B_df`, respectively. In the next step, we extract the DataFrame data into two _NumPy_ arrays:"
   ]
  },
  {
   "cell_type": "code",
   "execution_count": 14,
   "metadata": {},
   "outputs": [],
   "source": [
    "# Extracting the DataFrame import data:\n",
    "Group_A = Group_A_df[\"Data\"].values\n",
    "Group_B = Group_B_df[\"Data\"].values"
   ]
  },
  {
   "cell_type": "markdown",
   "metadata": {},
   "source": [
    "## A few Pandas basics\n",
    "As stated in the [introductory course](https://www.fabriziomusacchio.com/teaching/python_course/12_pandas), _Pandas_ can do much more than _Excle_ file reading. The _Pandas_ DataFrame comes - simialar to [_NumPy_](https://www.fabriziomusacchio.com/teaching/python_course/10_numpy#useful-helper-functions-for-array-generation) -  equipped with a bunch of useful built-in function:"
   ]
  },
  {
   "cell_type": "code",
   "execution_count": 13,
   "metadata": {
    "scrolled": true
   },
   "outputs": [
    {
     "name": "stdout",
     "output_type": "stream",
     "text": [
      "shape of Group A data: (50, 1)\n",
      "shape of Group B data: (50, 1)\n"
     ]
    }
   ],
   "source": [
    "print(f\"shape of Group A data: {Group_A_df.shape}\")\n",
    "print(f\"shape of Group B data: {Group_B_df.shape}\")"
   ]
  },
  {
   "cell_type": "markdown",
   "metadata": {},
   "source": [
    "We see that the data of our two groups is one-dimensional, and"
   ]
  },
  {
   "cell_type": "code",
   "execution_count": 14,
   "metadata": {
    "scrolled": true
   },
   "outputs": [
    {
     "name": "stdout",
     "output_type": "stream",
     "text": [
      "keys (columns) in Group A data: Index(['Data'], dtype='object')\n",
      "keys (columns) in Group B data: Index(['Data'], dtype='object')\n"
     ]
    }
   ],
   "source": [
    "print(f\"keys (columns) in Group A data: {Group_A_df.keys()}\")\n",
    "print(f\"keys (columns) in Group B data: {Group_B_df.keys()}\")"
   ]
  },
  {
   "cell_type": "markdown",
   "metadata": {},
   "source": [
    "the main (and only - take a look at the Excel files-) column's key-name is \"_Data_\".\n",
    " \n",
    " We can do some further first examination of our data:"
   ]
  },
  {
   "cell_type": "code",
   "execution_count": 15,
   "metadata": {},
   "outputs": [
    {
     "name": "stdout",
     "output_type": "stream",
     "text": [
      "first 5 rows in Group A data:         Data\n",
      "0  18.074201\n",
      "1  13.086849\n",
      "2   2.272670\n",
      "3  20.283832\n",
      "4  26.357661\n"
     ]
    }
   ],
   "source": [
    "print(f\"first 5 rows in Group A data: {Group_A_df.head(5)}\")"
   ]
  },
  {
   "cell_type": "code",
   "execution_count": 16,
   "metadata": {},
   "outputs": [
    {
     "name": "stdout",
     "output_type": "stream",
     "text": [
      "last 5 rows in Group A data:          Data\n",
      "45  24.808727\n",
      "46   9.782053\n",
      "47   2.438080\n",
      "48  31.641609\n",
      "49  24.247804\n"
     ]
    }
   ],
   "source": [
    "print(f\"last 5 rows in Group A data: {Group_A_df.tail(5)}\")"
   ]
  },
  {
   "cell_type": "code",
   "execution_count": 17,
   "metadata": {},
   "outputs": [
    {
     "name": "stdout",
     "output_type": "stream",
     "text": [
      "average of Group A data: [17.47999084] +/- [14.40494573]\n",
      "average of Group B data: [14.43276578] +/- [11.85600989]\n"
     ]
    }
   ],
   "source": [
    "print(f\"average of Group A data: {Group_A_df.mean().values}\",\n",
    "      f\"+/- {Group_A_df.std().values}\",)\n",
    "print(f\"average of Group B data: {Group_B_df.mean().values}\",\n",
    "      f\"+/- {Group_B_df.std().values}\",)"
   ]
  },
  {
   "cell_type": "code",
   "execution_count": 94,
   "metadata": {},
   "outputs": [
    {
     "data": {
      "text/html": [
       "<div>\n",
       "<style scoped>\n",
       "    .dataframe tbody tr th:only-of-type {\n",
       "        vertical-align: middle;\n",
       "    }\n",
       "\n",
       "    .dataframe tbody tr th {\n",
       "        vertical-align: top;\n",
       "    }\n",
       "\n",
       "    .dataframe thead th {\n",
       "        text-align: right;\n",
       "    }\n",
       "</style>\n",
       "<table border=\"1\" class=\"dataframe\">\n",
       "  <thead>\n",
       "    <tr style=\"text-align: right;\">\n",
       "      <th></th>\n",
       "      <th>Data</th>\n",
       "    </tr>\n",
       "  </thead>\n",
       "  <tbody>\n",
       "    <tr>\n",
       "      <th>count</th>\n",
       "      <td>50.000000</td>\n",
       "    </tr>\n",
       "    <tr>\n",
       "      <th>mean</th>\n",
       "      <td>17.479991</td>\n",
       "    </tr>\n",
       "    <tr>\n",
       "      <th>std</th>\n",
       "      <td>14.404946</td>\n",
       "    </tr>\n",
       "    <tr>\n",
       "      <th>min</th>\n",
       "      <td>0.922640</td>\n",
       "    </tr>\n",
       "    <tr>\n",
       "      <th>25%</th>\n",
       "      <td>7.307007</td>\n",
       "    </tr>\n",
       "    <tr>\n",
       "      <th>50%</th>\n",
       "      <td>13.226441</td>\n",
       "    </tr>\n",
       "    <tr>\n",
       "      <th>75%</th>\n",
       "      <td>26.161001</td>\n",
       "    </tr>\n",
       "    <tr>\n",
       "      <th>max</th>\n",
       "      <td>60.000000</td>\n",
       "    </tr>\n",
       "  </tbody>\n",
       "</table>\n",
       "</div>"
      ],
      "text/plain": [
       "            Data\n",
       "count  50.000000\n",
       "mean   17.479991\n",
       "std    14.404946\n",
       "min     0.922640\n",
       "25%     7.307007\n",
       "50%    13.226441\n",
       "75%    26.161001\n",
       "max    60.000000"
      ]
     },
     "execution_count": 94,
     "metadata": {},
     "output_type": "execute_result"
    }
   ],
   "source": [
    "# general descriptive statistis of your dataframe:\n",
    "Group_A_df.describe()"
   ]
  },
  {
   "cell_type": "markdown",
   "metadata": {},
   "source": [
    "## Exercise 3\n",
    "\n",
    "1. Copy your script from the _Pingouin_ Exercise 2. \n",
    "2. Add the _Pandas_ _Excel_ file import commands from above to your script. \n",
    "3. Uncomment or redefine your `Group_A` and `Groud_B` variable definitions by the following expression:\n",
    "    ```python\n",
    "        Group_A = Group_A_df[\"Data\"].values\n",
    "        Group_B = Group_B_df[\"Data\"].values\n",
    "    ```\n",
    "4. Run your new script. \n",
    "5. Now, instead of reading the file \"Group_B_data.xls\", read \"Group_B2_data.xls\" as Group B data and re-run your script"
   ]
  },
  {
   "cell_type": "code",
   "execution_count": 2,
   "metadata": {
    "code_folding": []
   },
   "outputs": [
    {
     "data": {
      "image/png": "[encoded data removed]",
      "text/plain": [
       "<Figure size 216x360 with 1 Axes>"
      ]
     },
     "metadata": {
      "needs_background": "light"
     },
     "output_type": "display_data"
    },
    {
     "data": {
      "text/plain": [
       "<Figure size 432x288 with 0 Axes>"
      ]
     },
     "metadata": {},
     "output_type": "display_data"
    },
    {
     "data": {
      "image/png": "[encoded data removed]",
      "text/plain": [
       "<Figure size 360x432 with 1 Axes>"
      ]
     },
     "metadata": {
      "needs_background": "light"
     },
     "output_type": "display_data"
    },
    {
     "name": "stdout",
     "output_type": "stream",
     "text": [
      "no significant difference (p-value: [0.25092508])\n"
     ]
    },
    {
     "data": {
      "image/png": "[encoded data removed]",
      "text/plain": [
       "<Figure size 216x360 with 1 Axes>"
      ]
     },
     "metadata": {
      "needs_background": "light"
     },
     "output_type": "display_data"
    },
    {
     "data": {
      "text/plain": [
       "<Figure size 432x288 with 0 Axes>"
      ]
     },
     "metadata": {},
     "output_type": "display_data"
    },
    {
     "data": {
      "image/png": "[encoded data removed]",
      "text/plain": [
       "<Figure size 360x432 with 1 Axes>"
      ]
     },
     "metadata": {
      "needs_background": "light"
     },
     "output_type": "display_data"
    },
    {
     "name": "stdout",
     "output_type": "stream",
     "text": [
      "here is a significant difference (p-value: [0.02157014], cohen-d:[0.46704775])\n"
     ]
    }
   ],
   "source": [
    "# Your solution 3 here (full script):\n"
   ]
  },
  {
   "cell_type": "markdown",
   "metadata": {},
   "source": [
    "<details>\n",
    "<summary><strong>Toggle full script solution</strong></summary>\n",
    "\n",
    "~~~python\n",
    "# Solution 3 (Full script):\n",
    "import pandas as pd\n",
    "import os\n",
    "\n",
    "import numpy as np\n",
    "import matplotlib.pyplot as plt\n",
    "import pingouin as pg\n",
    "\n",
    "# Define file paths:\n",
    "file_path = \"Data/Pandas_1/\"     \n",
    "file_name_1 = \"Group_A_data.xls\"\n",
    "file_name_2 = \"Group_B_data.xls\"\n",
    "file_name_3 = \"Group_B2_data.xls\"\n",
    "\n",
    "file_1 = os.path.join(file_path, file_name_1)\n",
    "file_2 = os.path.join(file_path, file_name_2)\n",
    "file_3 = os.path.join(file_path, file_name_3)\n",
    "\n",
    "# Read the Excel files with Pandas into a Pandas Dataframe:\n",
    "Group_A_df = pd.read_excel(file_1, index_col=0)\n",
    "Group_B_df = pd.read_excel(file_2, index_col=0)\n",
    "Group_B2_df= pd.read_excel(file_3, index_col=0)\n",
    "\n",
    "# Broadcast the DataFrame data into the appropriate variables:\n",
    "Group_A = Group_A_df[\"Data\"].values\n",
    "Group_B = Group_B_df[\"Data\"].values\n",
    "Group_B2= Group_B2_df[\"Data\"].values\n",
    "\n",
    "\n",
    "\"\"\" The following code is simply your copied solution from the \n",
    "    Pingouin section:\n",
    "\"\"\"\n",
    "\n",
    "# %% FUNCTION DEFINITIONS\n",
    "def normal_unpaired_sigtest(A, B):\n",
    "    test_result = pg.ttest(A, B, paired=False)\n",
    "    p_value = test_result[\"p-val\"].values\n",
    "    cohen_d = test_result[\"cohen-d\"].values\n",
    "\n",
    "    if p_value>0.05:\n",
    "        print(f\"no significant difference (p-value: {p_value})\")\n",
    "    else:\n",
    "        print(f\"here is a significant difference \"\n",
    "              f\"(p-value: {p_value}, cohen-d:{cohen_d})\")\n",
    "\n",
    "    return p_value, cohen_d\n",
    "\n",
    "def notnormal_unpaired_sigtest(A, B):\n",
    "    test_result = pg.mwu(A, B)\n",
    "    p_value = test_result[\"p-val\"].values\n",
    "\n",
    "    if p_value>0.05:\n",
    "        print(f\"no significant difference (p-value: {p_value})\")\n",
    "    else:\n",
    "        print(f\"here is a significant difference \"\n",
    "              f\"(p-value: {p_value})\")\n",
    "\n",
    "    return p_value\n",
    "\n",
    "# VIOLIN-PLOTS:\n",
    "def my_violin_AB_plot(A, B, A_label=\"A\", B_label=\"B\",\n",
    "                     title=\"\"):\n",
    "    \"\"\" This is Group A vs Group B Violin plot function.\n",
    "        Written by me on 2021, April\n",
    "        \n",
    "        A     Group A sample data\n",
    "        B     Group B sample data\n",
    "        A_label....\n",
    "    \"\"\"\n",
    "    fig=plt.figure(3, figsize=(5,6))\n",
    "    fig.clf()\n",
    "\n",
    "    x_ticks_A = np.ones(len(A))\n",
    "    x_ticks_B = np.ones(len(B))\n",
    "\n",
    "    plt.violinplot([A, B], showmedians=True)\n",
    "    plt.boxplot([A, B])\n",
    "    \n",
    "    plt.xticks([1,2], labels=[A_label, B_label], fontsize=14,\n",
    "              fontweight=\"bold\")\n",
    "    plt.xlabel(\"Groups\")\n",
    "    plt.ylabel(\"measurments\")\n",
    "    plt.title(title, fontweight=\"bold\")\n",
    "    plt.tight_layout\n",
    "    # plt.ylim(-40, 40)\n",
    "    \n",
    "    # some add-on commands (remove some borders):\n",
    "    axis = plt.gca()\n",
    "    axis.spines['right'].set_visible(False)\n",
    "    axis.spines['top'].set_visible(False)\n",
    "    axis.spines['bottom'].set_visible(False)\n",
    "    axis.spines['left'].set_visible(False)\n",
    "    \n",
    "    plt.show()\n",
    "\n",
    "# BAR-PLOT:\n",
    "def my_bar_AB_plot(A, B, A_label=\"A\", B_label=\"B\", title=\"\",\n",
    "                  plotfilename=\"plot.pdf\"):\n",
    "    fig=plt.figure(1, figsize=(3,5))\n",
    "    fig.clf()\n",
    "\n",
    "    plt.bar([1, 2], [A.mean(), B.mean()], alpha=0.25)\n",
    "\n",
    "    plt.xticks([1,2], labels=[A_label, B_label])\n",
    "    plt.xlabel(\"Groups\")\n",
    "    plt.ylabel(\"measurments\")\n",
    "    #plt.title(\"Bar-plot of group averages\")\n",
    "    plt.title(title, fontweight=\"bold\")\n",
    "    \n",
    "    # some add-on commands (remove some borders):\n",
    "    axis = plt.gca()\n",
    "    axis.spines['right'].set_visible(False)\n",
    "    axis.spines['top'].set_visible(False)\n",
    "    axis.spines['bottom'].set_visible(False)\n",
    "    axis.spines['left'].set_visible(False)\n",
    "\n",
    "    plt.tight_layout\n",
    "    plt.show()\n",
    "    # eg here the plot-save commands:\n",
    "    plt.savefig(plotfilename)# please wait for check up.\n",
    "\n",
    "\n",
    "\n",
    "# %% STATISTICAL ANALYSIS AND PLOT:\n",
    "\"\"\" Please note, that the followin 3 commands per group \n",
    "    comparison has become the MAIN PART OF OUR ANALYSIS\n",
    "    script, i.e., only execute these three commands to \n",
    "    get your plots and significance test. How the sign-\n",
    "    ficance test is calculated and how the plots are \n",
    "    generated is done in our function, which we don't have \n",
    "    to touch, change and care about anymore.\n",
    "\"\"\"\n",
    "\n",
    "# Group A vs B:\n",
    "my_bar_AB_plot(A=Group_A, B=Group_B, A_label=\"A\", B_label=\"B\", \n",
    "               title=\"Group A vs B averages\",\n",
    "              plotfilename=\"bar_plot_AB.pdf\")\n",
    "my_violin_AB_plot(A=Group_A, B=Group_B, A_label=\"A\", B_label=\"B\",\n",
    "                     title=\"Group A vs. B\")\n",
    "pvalue_1, cohen_d_1 = normal_unpaired_sigtest(Group_A, Group_B)\n",
    "\n",
    "\n",
    "# Group A vs B2:\n",
    "my_bar_AB_plot(A=Group_A, B=Group_B2, A_label=\"A\", B_label=\"B2\", \n",
    "               title=\"Group A vs B2 averages\",\n",
    "              plotfilename=\"bar_plot_AB2.pdf\")\n",
    "my_violin_AB_plot(A=Group_A, B=Group_B2, A_label=\"A\", \n",
    "                  B_label=\"B2\", title=\"Group A vs B2\")\n",
    "pvalue_3, cohen_d_3 = normal_unpaired_sigtest(Group_A, Group_B2)\n",
    "~~~\n",
    "</details>"
   ]
  },
  {
   "cell_type": "markdown",
   "metadata": {},
   "source": [
    "<br>"
   ]
  },
  {
   "cell_type": "markdown",
   "metadata": {},
   "source": [
    "## Exercise 4: Extended real world data example\n",
    "In the second part of our statistics tutorial we expand our script, so that it can analyse _Excel_ tables with more than just one column. Also, we work with `.xlsx` files instead of `.xls` files. Unfortuantely, I just discovered that `xlrd` has explicitly removed the support for anything other than `.xls` files (due to \"_potential security vulnerabilities_\", [source](https://stackoverflow.com/questions/65250207/pandas-cannot-open-an-excel-xlsx-file)). To overcome this problem, please install the \n",
    "\n",
    "* `openpyxl`\n",
    "\n",
    "package. "
   ]
  },
  {
   "cell_type": "markdown",
   "metadata": {},
   "source": [
    "1. Copy the _Excel_ file reading part from your previous script (or copy it from \"Solution 3 (Full script)\") into a new script.\n",
    "2. Change the main data path to `Data/Pandas_3/` and adjust the file names to the Group A and Group B data in that folder.\n",
    "3. In order to be able to read `.xlsx` files, add the argument `engine='openpyxl` to the _Pandas_ read command, e.g.\n",
    "    ```python\n",
    "    pd.read_excel(file_1, index_col=0, engine='openpyxl')\n",
    "    ```\n",
    "4. Similar to dictionaries, print out all column names (\"`keys`\") of the read _Excel_ files, e.g.:\n",
    "    ```python\n",
    "    for key in Group_A_df.keys():\n",
    "        print(f\"{key}\")\n",
    "    ```"
   ]
  },
  {
   "cell_type": "code",
   "execution_count": 18,
   "metadata": {
    "code_folding": [],
    "scrolled": false
   },
   "outputs": [
    {
     "name": "stdout",
     "output_type": "stream",
     "text": [
      "Mouse 1\n",
      "Mouse 2\n",
      "Mouse 3\n",
      "Mouse 4\n",
      "Mouse 5\n",
      "Mouse 6\n",
      "Mouse 7\n",
      "Mouse 8\n",
      "Mouse 9\n",
      "Mouse 10\n"
     ]
    }
   ],
   "source": [
    "# Your solution 4.1-4.4 here:\n"
   ]
  },
  {
   "cell_type": "markdown",
   "metadata": {},
   "source": [
    "<details>\n",
    "<summary><strong>Toggle solution</strong></summary>\n",
    "\n",
    "~~~python\n",
    "import pandas as pd\n",
    "import os\n",
    "\n",
    "import numpy as np\n",
    "import matplotlib.pyplot as plt\n",
    "import pingouin as pg\n",
    "\n",
    "# Define file paths:\n",
    "file_path = \"Data/Pandas_3/\"\n",
    "#file_name_1 = \"Group_A_data_2.xlsx\"\n",
    "#file_name_2 = \"Group_B_data_2.xlsx\"\n",
    "file_name_1 = \"Group_A_data.xlsx\"\n",
    "file_name_2 = \"Group_B_data.xlsx\"\n",
    "\n",
    "file_1 = os.path.join(file_path, file_name_1)\n",
    "file_2 = os.path.join(file_path, file_name_2)\n",
    "\n",
    "# Read the Excel files with Pandas into a Pandas Dataframe:\n",
    "Group_A_df = pd.read_excel(file_1, index_col=0, engine='openpyxl')\n",
    "Group_B_df = pd.read_excel(file_2, index_col=0, engine='openpyxl')\n",
    "\n",
    "for column in Group_A_df.keys():\n",
    "    print(f\"{column}\")\n",
    "~~~\n",
    "</details>"
   ]
  },
  {
   "cell_type": "markdown",
   "metadata": {},
   "source": [
    "<br>"
   ]
  },
  {
   "cell_type": "code",
   "execution_count": 19,
   "metadata": {},
   "outputs": [
    {
     "data": {
      "text/plain": [
       "Index(['Mouse 1', 'Mouse 2', 'Mouse 3', 'Mouse 4', 'Mouse 5', 'Mouse 6',\n",
       "       'Mouse 7', 'Mouse 8', 'Mouse 9', 'Mouse 10'],\n",
       "      dtype='object')"
      ]
     },
     "execution_count": 19,
     "metadata": {},
     "output_type": "execute_result"
    }
   ],
   "source": [
    "Group_A_df.keys()"
   ]
  },
  {
   "cell_type": "code",
   "execution_count": 20,
   "metadata": {
    "scrolled": false
   },
   "outputs": [
    {
     "data": {
      "text/html": [
       "<div>\n",
       "<style scoped>\n",
       "    .dataframe tbody tr th:only-of-type {\n",
       "        vertical-align: middle;\n",
       "    }\n",
       "\n",
       "    .dataframe tbody tr th {\n",
       "        vertical-align: top;\n",
       "    }\n",
       "\n",
       "    .dataframe thead th {\n",
       "        text-align: right;\n",
       "    }\n",
       "</style>\n",
       "<table border=\"1\" class=\"dataframe\">\n",
       "  <thead>\n",
       "    <tr style=\"text-align: right;\">\n",
       "      <th></th>\n",
       "      <th>Mouse 1</th>\n",
       "      <th>Mouse 2</th>\n",
       "      <th>Mouse 3</th>\n",
       "      <th>Mouse 4</th>\n",
       "      <th>Mouse 5</th>\n",
       "      <th>Mouse 6</th>\n",
       "      <th>Mouse 7</th>\n",
       "      <th>Mouse 8</th>\n",
       "      <th>Mouse 9</th>\n",
       "      <th>Mouse 10</th>\n",
       "    </tr>\n",
       "  </thead>\n",
       "  <tbody>\n",
       "    <tr>\n",
       "      <th>0</th>\n",
       "      <td>18.074201</td>\n",
       "      <td>23.066936</td>\n",
       "      <td>60.000000</td>\n",
       "      <td>20.711322</td>\n",
       "      <td>60.000000</td>\n",
       "      <td>28.763525</td>\n",
       "      <td>42.427278</td>\n",
       "      <td>15.598740</td>\n",
       "      <td>13.465411</td>\n",
       "      <td>13.196517</td>\n",
       "    </tr>\n",
       "    <tr>\n",
       "      <th>1</th>\n",
       "      <td>13.086849</td>\n",
       "      <td>10.323111</td>\n",
       "      <td>19.974086</td>\n",
       "      <td>38.248952</td>\n",
       "      <td>25.587832</td>\n",
       "      <td>53.735452</td>\n",
       "      <td>16.635397</td>\n",
       "      <td>16.495615</td>\n",
       "      <td>44.782381</td>\n",
       "      <td>23.109105</td>\n",
       "    </tr>\n",
       "    <tr>\n",
       "      <th>2</th>\n",
       "      <td>2.272670</td>\n",
       "      <td>17.602005</td>\n",
       "      <td>22.705996</td>\n",
       "      <td>19.140288</td>\n",
       "      <td>24.739332</td>\n",
       "      <td>12.594575</td>\n",
       "      <td>41.966899</td>\n",
       "      <td>13.633330</td>\n",
       "      <td>25.891547</td>\n",
       "      <td>14.908281</td>\n",
       "    </tr>\n",
       "    <tr>\n",
       "      <th>3</th>\n",
       "      <td>20.283832</td>\n",
       "      <td>28.179423</td>\n",
       "      <td>36.580909</td>\n",
       "      <td>38.064844</td>\n",
       "      <td>29.033290</td>\n",
       "      <td>9.057918</td>\n",
       "      <td>60.000000</td>\n",
       "      <td>20.301198</td>\n",
       "      <td>18.622461</td>\n",
       "      <td>13.755511</td>\n",
       "    </tr>\n",
       "    <tr>\n",
       "      <th>4</th>\n",
       "      <td>26.357661</td>\n",
       "      <td>60.000000</td>\n",
       "      <td>29.650851</td>\n",
       "      <td>20.149923</td>\n",
       "      <td>44.583438</td>\n",
       "      <td>5.217009</td>\n",
       "      <td>48.860477</td>\n",
       "      <td>37.083126</td>\n",
       "      <td>18.306000</td>\n",
       "      <td>9.591119</td>\n",
       "    </tr>\n",
       "    <tr>\n",
       "      <th>5</th>\n",
       "      <td>45.342706</td>\n",
       "      <td>9.259463</td>\n",
       "      <td>10.029454</td>\n",
       "      <td>35.167710</td>\n",
       "      <td>14.413221</td>\n",
       "      <td>26.552184</td>\n",
       "      <td>3.281541</td>\n",
       "      <td>9.668325</td>\n",
       "      <td>15.764203</td>\n",
       "      <td>19.503650</td>\n",
       "    </tr>\n",
       "    <tr>\n",
       "      <th>6</th>\n",
       "      <td>47.139108</td>\n",
       "      <td>25.335681</td>\n",
       "      <td>10.954845</td>\n",
       "      <td>19.216845</td>\n",
       "      <td>45.489924</td>\n",
       "      <td>48.642575</td>\n",
       "      <td>26.566834</td>\n",
       "      <td>3.103062</td>\n",
       "      <td>12.845208</td>\n",
       "      <td>34.832844</td>\n",
       "    </tr>\n",
       "  </tbody>\n",
       "</table>\n",
       "</div>"
      ],
      "text/plain": [
       "     Mouse 1    Mouse 2    Mouse 3    Mouse 4    Mouse 5    Mouse 6  \\\n",
       "0  18.074201  23.066936  60.000000  20.711322  60.000000  28.763525   \n",
       "1  13.086849  10.323111  19.974086  38.248952  25.587832  53.735452   \n",
       "2   2.272670  17.602005  22.705996  19.140288  24.739332  12.594575   \n",
       "3  20.283832  28.179423  36.580909  38.064844  29.033290   9.057918   \n",
       "4  26.357661  60.000000  29.650851  20.149923  44.583438   5.217009   \n",
       "5  45.342706   9.259463  10.029454  35.167710  14.413221  26.552184   \n",
       "6  47.139108  25.335681  10.954845  19.216845  45.489924  48.642575   \n",
       "\n",
       "     Mouse 7    Mouse 8    Mouse 9   Mouse 10  \n",
       "0  42.427278  15.598740  13.465411  13.196517  \n",
       "1  16.635397  16.495615  44.782381  23.109105  \n",
       "2  41.966899  13.633330  25.891547  14.908281  \n",
       "3  60.000000  20.301198  18.622461  13.755511  \n",
       "4  48.860477  37.083126  18.306000   9.591119  \n",
       "5   3.281541   9.668325  15.764203  19.503650  \n",
       "6  26.566834   3.103062  12.845208  34.832844  "
      ]
     },
     "execution_count": 20,
     "metadata": {},
     "output_type": "execute_result"
    }
   ],
   "source": [
    "Group_A_df.head(7)"
   ]
  },
  {
   "cell_type": "code",
   "execution_count": 2,
   "metadata": {},
   "outputs": [
    {
     "name": "stdout",
     "output_type": "stream",
     "text": [
      "(50, 10)\n"
     ]
    }
   ],
   "source": [
    "print(Group_A_df.shape)"
   ]
  },
  {
   "cell_type": "code",
   "execution_count": 8,
   "metadata": {},
   "outputs": [
    {
     "data": {
      "text/html": [
       "<div>\n",
       "<style scoped>\n",
       "    .dataframe tbody tr th:only-of-type {\n",
       "        vertical-align: middle;\n",
       "    }\n",
       "\n",
       "    .dataframe tbody tr th {\n",
       "        vertical-align: top;\n",
       "    }\n",
       "\n",
       "    .dataframe thead th {\n",
       "        text-align: right;\n",
       "    }\n",
       "</style>\n",
       "<table border=\"1\" class=\"dataframe\">\n",
       "  <thead>\n",
       "    <tr style=\"text-align: right;\">\n",
       "      <th></th>\n",
       "      <th>Mouse 1</th>\n",
       "      <th>Mouse 2</th>\n",
       "      <th>Mouse 3</th>\n",
       "      <th>Mouse 4</th>\n",
       "      <th>Mouse 5</th>\n",
       "      <th>Mouse 6</th>\n",
       "      <th>Mouse 7</th>\n",
       "      <th>Mouse 8</th>\n",
       "      <th>Mouse 9</th>\n",
       "      <th>Mouse 10</th>\n",
       "    </tr>\n",
       "  </thead>\n",
       "  <tbody>\n",
       "    <tr>\n",
       "      <th>count</th>\n",
       "      <td>50.000000</td>\n",
       "      <td>50.000000</td>\n",
       "      <td>50.000000</td>\n",
       "      <td>50.000000</td>\n",
       "      <td>50.000000</td>\n",
       "      <td>50.000000</td>\n",
       "      <td>50.000000</td>\n",
       "      <td>50.000000</td>\n",
       "      <td>50.000000</td>\n",
       "      <td>50.000000</td>\n",
       "    </tr>\n",
       "    <tr>\n",
       "      <th>mean</th>\n",
       "      <td>17.479991</td>\n",
       "      <td>24.648196</td>\n",
       "      <td>27.360234</td>\n",
       "      <td>26.124974</td>\n",
       "      <td>28.200733</td>\n",
       "      <td>18.042231</td>\n",
       "      <td>21.736532</td>\n",
       "      <td>18.573062</td>\n",
       "      <td>26.391034</td>\n",
       "      <td>24.842926</td>\n",
       "    </tr>\n",
       "    <tr>\n",
       "      <th>std</th>\n",
       "      <td>14.404946</td>\n",
       "      <td>14.363733</td>\n",
       "      <td>12.986157</td>\n",
       "      <td>11.570712</td>\n",
       "      <td>11.908364</td>\n",
       "      <td>13.552271</td>\n",
       "      <td>15.680920</td>\n",
       "      <td>13.948133</td>\n",
       "      <td>12.477335</td>\n",
       "      <td>12.394661</td>\n",
       "    </tr>\n",
       "    <tr>\n",
       "      <th>min</th>\n",
       "      <td>0.922640</td>\n",
       "      <td>9.259463</td>\n",
       "      <td>9.270425</td>\n",
       "      <td>9.429189</td>\n",
       "      <td>9.777123</td>\n",
       "      <td>0.062906</td>\n",
       "      <td>0.376473</td>\n",
       "      <td>0.472434</td>\n",
       "      <td>9.382286</td>\n",
       "      <td>9.549946</td>\n",
       "    </tr>\n",
       "    <tr>\n",
       "      <th>25%</th>\n",
       "      <td>7.307007</td>\n",
       "      <td>13.435652</td>\n",
       "      <td>19.699324</td>\n",
       "      <td>18.230936</td>\n",
       "      <td>18.421391</td>\n",
       "      <td>7.620068</td>\n",
       "      <td>7.607388</td>\n",
       "      <td>7.634176</td>\n",
       "      <td>17.837596</td>\n",
       "      <td>14.267775</td>\n",
       "    </tr>\n",
       "    <tr>\n",
       "      <th>50%</th>\n",
       "      <td>13.226441</td>\n",
       "      <td>19.900726</td>\n",
       "      <td>24.955239</td>\n",
       "      <td>24.172694</td>\n",
       "      <td>26.158784</td>\n",
       "      <td>14.903794</td>\n",
       "      <td>18.857441</td>\n",
       "      <td>16.047178</td>\n",
       "      <td>23.196840</td>\n",
       "      <td>23.064810</td>\n",
       "    </tr>\n",
       "    <tr>\n",
       "      <th>75%</th>\n",
       "      <td>26.161001</td>\n",
       "      <td>28.072406</td>\n",
       "      <td>33.454855</td>\n",
       "      <td>32.736302</td>\n",
       "      <td>34.073416</td>\n",
       "      <td>27.297384</td>\n",
       "      <td>35.213392</td>\n",
       "      <td>26.562242</td>\n",
       "      <td>34.536572</td>\n",
       "      <td>31.782738</td>\n",
       "    </tr>\n",
       "    <tr>\n",
       "      <th>max</th>\n",
       "      <td>60.000000</td>\n",
       "      <td>60.000000</td>\n",
       "      <td>60.000000</td>\n",
       "      <td>60.000000</td>\n",
       "      <td>60.000000</td>\n",
       "      <td>53.735452</td>\n",
       "      <td>60.000000</td>\n",
       "      <td>56.025684</td>\n",
       "      <td>60.000000</td>\n",
       "      <td>60.000000</td>\n",
       "    </tr>\n",
       "  </tbody>\n",
       "</table>\n",
       "</div>"
      ],
      "text/plain": [
       "         Mouse 1    Mouse 2    Mouse 3    Mouse 4    Mouse 5    Mouse 6  \\\n",
       "count  50.000000  50.000000  50.000000  50.000000  50.000000  50.000000   \n",
       "mean   17.479991  24.648196  27.360234  26.124974  28.200733  18.042231   \n",
       "std    14.404946  14.363733  12.986157  11.570712  11.908364  13.552271   \n",
       "min     0.922640   9.259463   9.270425   9.429189   9.777123   0.062906   \n",
       "25%     7.307007  13.435652  19.699324  18.230936  18.421391   7.620068   \n",
       "50%    13.226441  19.900726  24.955239  24.172694  26.158784  14.903794   \n",
       "75%    26.161001  28.072406  33.454855  32.736302  34.073416  27.297384   \n",
       "max    60.000000  60.000000  60.000000  60.000000  60.000000  53.735452   \n",
       "\n",
       "         Mouse 7    Mouse 8    Mouse 9   Mouse 10  \n",
       "count  50.000000  50.000000  50.000000  50.000000  \n",
       "mean   21.736532  18.573062  26.391034  24.842926  \n",
       "std    15.680920  13.948133  12.477335  12.394661  \n",
       "min     0.376473   0.472434   9.382286   9.549946  \n",
       "25%     7.607388   7.634176  17.837596  14.267775  \n",
       "50%    18.857441  16.047178  23.196840  23.064810  \n",
       "75%    35.213392  26.562242  34.536572  31.782738  \n",
       "max    60.000000  56.025684  60.000000  60.000000  "
      ]
     },
     "execution_count": 8,
     "metadata": {},
     "output_type": "execute_result"
    }
   ],
   "source": [
    "#print(Group_A_df.describe())\n",
    "Group_A_df.describe()"
   ]
  },
  {
   "cell_type": "markdown",
   "metadata": {},
   "source": [
    "**Exercise 4 continued**:\n",
    "\n",
    "5. Calculate and print the median of each column of each data table. Hint: Take a look, how we calculated the mean with the built-in _Pandas_ mean function shown in Section 5.\n",
    "6. Save the calculated medians into the variables `Group_A` and `Group_B`.\n",
    "7. Copy the remaining plot and analysis part from your previous script/\"Solution 3 (Full script)\" into your  script and run your pipeline.\n",
    "8. Re-run your script with the Group A2 and Group B2 data."
   ]
  },
  {
   "cell_type": "code",
   "execution_count": 21,
   "metadata": {
    "code_folding": []
   },
   "outputs": [
    {
     "name": "stdout",
     "output_type": "stream",
     "text": [
      "Group A medians: [13.22644106 19.90072561 24.95523869 24.17269392 26.15878378 14.9037943\n",
      " 18.85744129 16.04717778 23.19683969 23.06480993]\n",
      "Group B medians: [23.59495388 11.61376136 18.68395653 20.8270858  21.82640825 14.64554514\n",
      " 20.27448066 17.02615332 11.41902818 17.77334372]\n"
     ]
    }
   ],
   "source": [
    "# Your solution 4.5-4.6 here:\n"
   ]
  },
  {
   "cell_type": "markdown",
   "metadata": {},
   "source": [
    "<details>\n",
    "<summary><strong>Toggle solution</strong></summary>\n",
    "\n",
    "~~~python\n",
    "# Solution 4.5-4.6:\n",
    "Group_A = Group_A_df.median().values\n",
    "Group_B = Group_B_df.median().values\n",
    "print(f\"Group A medians: {Group_A}\")\n",
    "print(f\"Group B medians: {Group_B}\")\n",
    "~~~\n",
    "</details>"
   ]
  },
  {
   "cell_type": "markdown",
   "metadata": {},
   "source": [
    "<br>"
   ]
  },
  {
   "cell_type": "code",
   "execution_count": 13,
   "metadata": {
    "scrolled": true
   },
   "outputs": [
    {
     "name": "stdout",
     "output_type": "stream",
     "text": [
      "<class 'pandas.core.frame.DataFrame'>\n",
      "<class 'numpy.ndarray'>\n"
     ]
    }
   ],
   "source": [
    "print(f\"{type(Group_A_df)}\")\n",
    "print(f\"{type(Group_A)}\")"
   ]
  },
  {
   "cell_type": "code",
   "execution_count": 14,
   "metadata": {
    "scrolled": true
   },
   "outputs": [
    {
     "name": "stdout",
     "output_type": "stream",
     "text": [
      "<class 'numpy.ndarray'>\n",
      "(50, 10)\n"
     ]
    }
   ],
   "source": [
    "dummy = Group_A_df.values\n",
    "print(f\"{type(dummy)}\")\n",
    "print(f\"{dummy.shape}\")"
   ]
  },
  {
   "cell_type": "code",
   "execution_count": 16,
   "metadata": {
    "scrolled": true
   },
   "outputs": [
    {
     "data": {
      "text/html": [
       "<div>\n",
       "<style scoped>\n",
       "    .dataframe tbody tr th:only-of-type {\n",
       "        vertical-align: middle;\n",
       "    }\n",
       "\n",
       "    .dataframe tbody tr th {\n",
       "        vertical-align: top;\n",
       "    }\n",
       "\n",
       "    .dataframe thead th {\n",
       "        text-align: right;\n",
       "    }\n",
       "</style>\n",
       "<table border=\"1\" class=\"dataframe\">\n",
       "  <thead>\n",
       "    <tr style=\"text-align: right;\">\n",
       "      <th></th>\n",
       "      <th>0</th>\n",
       "      <th>1</th>\n",
       "      <th>2</th>\n",
       "      <th>3</th>\n",
       "      <th>4</th>\n",
       "      <th>5</th>\n",
       "      <th>6</th>\n",
       "      <th>7</th>\n",
       "      <th>8</th>\n",
       "      <th>9</th>\n",
       "    </tr>\n",
       "  </thead>\n",
       "  <tbody>\n",
       "    <tr>\n",
       "      <th>0</th>\n",
       "      <td>18.074201</td>\n",
       "      <td>23.066936</td>\n",
       "      <td>60.000000</td>\n",
       "      <td>20.711322</td>\n",
       "      <td>60.000000</td>\n",
       "      <td>28.763525</td>\n",
       "      <td>42.427278</td>\n",
       "      <td>15.598740</td>\n",
       "      <td>13.465411</td>\n",
       "      <td>13.196517</td>\n",
       "    </tr>\n",
       "    <tr>\n",
       "      <th>1</th>\n",
       "      <td>13.086849</td>\n",
       "      <td>10.323111</td>\n",
       "      <td>19.974086</td>\n",
       "      <td>38.248952</td>\n",
       "      <td>25.587832</td>\n",
       "      <td>53.735452</td>\n",
       "      <td>16.635397</td>\n",
       "      <td>16.495615</td>\n",
       "      <td>44.782381</td>\n",
       "      <td>23.109105</td>\n",
       "    </tr>\n",
       "    <tr>\n",
       "      <th>2</th>\n",
       "      <td>2.272670</td>\n",
       "      <td>17.602005</td>\n",
       "      <td>22.705996</td>\n",
       "      <td>19.140288</td>\n",
       "      <td>24.739332</td>\n",
       "      <td>12.594575</td>\n",
       "      <td>41.966899</td>\n",
       "      <td>13.633330</td>\n",
       "      <td>25.891547</td>\n",
       "      <td>14.908281</td>\n",
       "    </tr>\n",
       "    <tr>\n",
       "      <th>3</th>\n",
       "      <td>20.283832</td>\n",
       "      <td>28.179423</td>\n",
       "      <td>36.580909</td>\n",
       "      <td>38.064844</td>\n",
       "      <td>29.033290</td>\n",
       "      <td>9.057918</td>\n",
       "      <td>60.000000</td>\n",
       "      <td>20.301198</td>\n",
       "      <td>18.622461</td>\n",
       "      <td>13.755511</td>\n",
       "    </tr>\n",
       "    <tr>\n",
       "      <th>4</th>\n",
       "      <td>26.357661</td>\n",
       "      <td>60.000000</td>\n",
       "      <td>29.650851</td>\n",
       "      <td>20.149923</td>\n",
       "      <td>44.583438</td>\n",
       "      <td>5.217009</td>\n",
       "      <td>48.860477</td>\n",
       "      <td>37.083126</td>\n",
       "      <td>18.306000</td>\n",
       "      <td>9.591119</td>\n",
       "    </tr>\n",
       "    <tr>\n",
       "      <th>5</th>\n",
       "      <td>45.342706</td>\n",
       "      <td>9.259463</td>\n",
       "      <td>10.029454</td>\n",
       "      <td>35.167710</td>\n",
       "      <td>14.413221</td>\n",
       "      <td>26.552184</td>\n",
       "      <td>3.281541</td>\n",
       "      <td>9.668325</td>\n",
       "      <td>15.764203</td>\n",
       "      <td>19.503650</td>\n",
       "    </tr>\n",
       "    <tr>\n",
       "      <th>6</th>\n",
       "      <td>47.139108</td>\n",
       "      <td>25.335681</td>\n",
       "      <td>10.954845</td>\n",
       "      <td>19.216845</td>\n",
       "      <td>45.489924</td>\n",
       "      <td>48.642575</td>\n",
       "      <td>26.566834</td>\n",
       "      <td>3.103062</td>\n",
       "      <td>12.845208</td>\n",
       "      <td>34.832844</td>\n",
       "    </tr>\n",
       "    <tr>\n",
       "      <th>7</th>\n",
       "      <td>1.427794</td>\n",
       "      <td>12.321790</td>\n",
       "      <td>31.902779</td>\n",
       "      <td>18.709343</td>\n",
       "      <td>22.324181</td>\n",
       "      <td>13.551915</td>\n",
       "      <td>20.291572</td>\n",
       "      <td>28.838343</td>\n",
       "      <td>41.150187</td>\n",
       "      <td>42.268679</td>\n",
       "    </tr>\n",
       "    <tr>\n",
       "      <th>8</th>\n",
       "      <td>7.846927</td>\n",
       "      <td>60.000000</td>\n",
       "      <td>26.200162</td>\n",
       "      <td>26.720212</td>\n",
       "      <td>19.633351</td>\n",
       "      <td>31.817556</td>\n",
       "      <td>33.593050</td>\n",
       "      <td>2.118014</td>\n",
       "      <td>40.808585</td>\n",
       "      <td>24.551126</td>\n",
       "    </tr>\n",
       "    <tr>\n",
       "      <th>9</th>\n",
       "      <td>26.665037</td>\n",
       "      <td>14.995325</td>\n",
       "      <td>20.649107</td>\n",
       "      <td>25.755907</td>\n",
       "      <td>18.867057</td>\n",
       "      <td>10.498226</td>\n",
       "      <td>2.170260</td>\n",
       "      <td>3.044227</td>\n",
       "      <td>13.793600</td>\n",
       "      <td>14.054273</td>\n",
       "    </tr>\n",
       "    <tr>\n",
       "      <th>10</th>\n",
       "      <td>0.922640</td>\n",
       "      <td>60.000000</td>\n",
       "      <td>11.326179</td>\n",
       "      <td>23.560684</td>\n",
       "      <td>22.050686</td>\n",
       "      <td>0.172303</td>\n",
       "      <td>32.466781</td>\n",
       "      <td>25.394094</td>\n",
       "      <td>23.179101</td>\n",
       "      <td>26.588131</td>\n",
       "    </tr>\n",
       "    <tr>\n",
       "      <th>11</th>\n",
       "      <td>4.326630</td>\n",
       "      <td>27.751354</td>\n",
       "      <td>21.395401</td>\n",
       "      <td>19.939066</td>\n",
       "      <td>23.044234</td>\n",
       "      <td>28.377354</td>\n",
       "      <td>41.063390</td>\n",
       "      <td>2.535108</td>\n",
       "      <td>47.836518</td>\n",
       "      <td>50.371135</td>\n",
       "    </tr>\n",
       "    <tr>\n",
       "      <th>12</th>\n",
       "      <td>9.157503</td>\n",
       "      <td>37.444383</td>\n",
       "      <td>22.488169</td>\n",
       "      <td>27.579036</td>\n",
       "      <td>33.046569</td>\n",
       "      <td>30.581410</td>\n",
       "      <td>24.489401</td>\n",
       "      <td>11.408426</td>\n",
       "      <td>12.707566</td>\n",
       "      <td>23.685907</td>\n",
       "    </tr>\n",
       "    <tr>\n",
       "      <th>13</th>\n",
       "      <td>29.647979</td>\n",
       "      <td>60.000000</td>\n",
       "      <td>10.276356</td>\n",
       "      <td>18.532377</td>\n",
       "      <td>50.371736</td>\n",
       "      <td>14.600049</td>\n",
       "      <td>6.179677</td>\n",
       "      <td>0.599478</td>\n",
       "      <td>9.884708</td>\n",
       "      <td>31.209116</td>\n",
       "    </tr>\n",
       "    <tr>\n",
       "      <th>14</th>\n",
       "      <td>8.742000</td>\n",
       "      <td>13.402487</td>\n",
       "      <td>13.829782</td>\n",
       "      <td>40.112201</td>\n",
       "      <td>33.829378</td>\n",
       "      <td>15.207540</td>\n",
       "      <td>7.091670</td>\n",
       "      <td>32.604269</td>\n",
       "      <td>30.323622</td>\n",
       "      <td>31.973945</td>\n",
       "    </tr>\n",
       "    <tr>\n",
       "      <th>15</th>\n",
       "      <td>25.571023</td>\n",
       "      <td>18.113789</td>\n",
       "      <td>30.915942</td>\n",
       "      <td>26.935311</td>\n",
       "      <td>45.771603</td>\n",
       "      <td>15.868325</td>\n",
       "      <td>9.154542</td>\n",
       "      <td>26.951625</td>\n",
       "      <td>24.522718</td>\n",
       "      <td>14.945380</td>\n",
       "    </tr>\n",
       "    <tr>\n",
       "      <th>16</th>\n",
       "      <td>10.862005</td>\n",
       "      <td>43.721057</td>\n",
       "      <td>54.936913</td>\n",
       "      <td>25.452780</td>\n",
       "      <td>34.154762</td>\n",
       "      <td>4.038185</td>\n",
       "      <td>13.411006</td>\n",
       "      <td>41.784804</td>\n",
       "      <td>20.798726</td>\n",
       "      <td>9.617624</td>\n",
       "    </tr>\n",
       "    <tr>\n",
       "      <th>17</th>\n",
       "      <td>4.951999</td>\n",
       "      <td>11.777482</td>\n",
       "      <td>19.827426</td>\n",
       "      <td>12.798417</td>\n",
       "      <td>34.864567</td>\n",
       "      <td>1.881381</td>\n",
       "      <td>50.341528</td>\n",
       "      <td>24.640953</td>\n",
       "      <td>13.600837</td>\n",
       "      <td>24.316330</td>\n",
       "    </tr>\n",
       "    <tr>\n",
       "      <th>18</th>\n",
       "      <td>12.602611</td>\n",
       "      <td>44.989141</td>\n",
       "      <td>31.756518</td>\n",
       "      <td>60.000000</td>\n",
       "      <td>50.767570</td>\n",
       "      <td>20.788953</td>\n",
       "      <td>10.415866</td>\n",
       "      <td>5.427315</td>\n",
       "      <td>32.450598</td>\n",
       "      <td>38.791586</td>\n",
       "    </tr>\n",
       "    <tr>\n",
       "      <th>19</th>\n",
       "      <td>11.634356</td>\n",
       "      <td>18.588259</td>\n",
       "      <td>24.700600</td>\n",
       "      <td>17.620996</td>\n",
       "      <td>43.425558</td>\n",
       "      <td>45.023374</td>\n",
       "      <td>21.967371</td>\n",
       "      <td>9.176215</td>\n",
       "      <td>27.008075</td>\n",
       "      <td>24.106791</td>\n",
       "    </tr>\n",
       "    <tr>\n",
       "      <th>20</th>\n",
       "      <td>34.598150</td>\n",
       "      <td>23.195795</td>\n",
       "      <td>26.490087</td>\n",
       "      <td>12.446582</td>\n",
       "      <td>30.696737</td>\n",
       "      <td>5.961492</td>\n",
       "      <td>2.909811</td>\n",
       "      <td>0.472434</td>\n",
       "      <td>39.430237</td>\n",
       "      <td>44.301112</td>\n",
       "    </tr>\n",
       "    <tr>\n",
       "      <th>21</th>\n",
       "      <td>8.010439</td>\n",
       "      <td>17.133937</td>\n",
       "      <td>21.597454</td>\n",
       "      <td>17.322758</td>\n",
       "      <td>12.003452</td>\n",
       "      <td>13.956856</td>\n",
       "      <td>17.423311</td>\n",
       "      <td>4.319208</td>\n",
       "      <td>49.054840</td>\n",
       "      <td>47.313228</td>\n",
       "    </tr>\n",
       "    <tr>\n",
       "      <th>22</th>\n",
       "      <td>14.213581</td>\n",
       "      <td>13.013907</td>\n",
       "      <td>42.684656</td>\n",
       "      <td>52.144749</td>\n",
       "      <td>43.825369</td>\n",
       "      <td>20.861080</td>\n",
       "      <td>39.967672</td>\n",
       "      <td>16.577972</td>\n",
       "      <td>13.891236</td>\n",
       "      <td>35.827849</td>\n",
       "    </tr>\n",
       "    <tr>\n",
       "      <th>23</th>\n",
       "      <td>17.283408</td>\n",
       "      <td>45.924542</td>\n",
       "      <td>51.593317</td>\n",
       "      <td>55.568849</td>\n",
       "      <td>33.648052</td>\n",
       "      <td>15.822137</td>\n",
       "      <td>35.904421</td>\n",
       "      <td>8.848024</td>\n",
       "      <td>24.704299</td>\n",
       "      <td>11.604016</td>\n",
       "    </tr>\n",
       "    <tr>\n",
       "      <th>24</th>\n",
       "      <td>7.231297</td>\n",
       "      <td>18.351918</td>\n",
       "      <td>15.818481</td>\n",
       "      <td>28.129001</td>\n",
       "      <td>31.764006</td>\n",
       "      <td>7.846267</td>\n",
       "      <td>22.262767</td>\n",
       "      <td>12.155190</td>\n",
       "      <td>25.912714</td>\n",
       "      <td>27.630061</td>\n",
       "    </tr>\n",
       "    <tr>\n",
       "      <th>25</th>\n",
       "      <td>37.431148</td>\n",
       "      <td>14.271629</td>\n",
       "      <td>10.372286</td>\n",
       "      <td>18.130455</td>\n",
       "      <td>9.777123</td>\n",
       "      <td>43.152748</td>\n",
       "      <td>3.728966</td>\n",
       "      <td>49.090144</td>\n",
       "      <td>18.187796</td>\n",
       "      <td>51.745546</td>\n",
       "    </tr>\n",
       "    <tr>\n",
       "      <th>26</th>\n",
       "      <td>60.000000</td>\n",
       "      <td>27.090419</td>\n",
       "      <td>28.996761</td>\n",
       "      <td>14.138737</td>\n",
       "      <td>44.961747</td>\n",
       "      <td>15.467501</td>\n",
       "      <td>2.651519</td>\n",
       "      <td>18.647221</td>\n",
       "      <td>19.375649</td>\n",
       "      <td>19.259184</td>\n",
       "    </tr>\n",
       "    <tr>\n",
       "      <th>27</th>\n",
       "      <td>15.263485</td>\n",
       "      <td>24.453000</td>\n",
       "      <td>39.158395</td>\n",
       "      <td>29.291996</td>\n",
       "      <td>24.467756</td>\n",
       "      <td>28.393238</td>\n",
       "      <td>30.909583</td>\n",
       "      <td>15.293277</td>\n",
       "      <td>35.231897</td>\n",
       "      <td>26.813921</td>\n",
       "    </tr>\n",
       "    <tr>\n",
       "      <th>28</th>\n",
       "      <td>19.726142</td>\n",
       "      <td>19.591767</td>\n",
       "      <td>17.227544</td>\n",
       "      <td>15.210792</td>\n",
       "      <td>31.066936</td>\n",
       "      <td>7.544668</td>\n",
       "      <td>17.086464</td>\n",
       "      <td>16.578254</td>\n",
       "      <td>21.923898</td>\n",
       "      <td>18.220372</td>\n",
       "    </tr>\n",
       "    <tr>\n",
       "      <th>29</th>\n",
       "      <td>53.398856</td>\n",
       "      <td>35.515243</td>\n",
       "      <td>24.882107</td>\n",
       "      <td>23.198237</td>\n",
       "      <td>16.201861</td>\n",
       "      <td>11.142045</td>\n",
       "      <td>0.376473</td>\n",
       "      <td>3.806705</td>\n",
       "      <td>37.843522</td>\n",
       "      <td>21.460346</td>\n",
       "    </tr>\n",
       "    <tr>\n",
       "      <th>30</th>\n",
       "      <td>1.999801</td>\n",
       "      <td>41.338417</td>\n",
       "      <td>19.234954</td>\n",
       "      <td>34.182026</td>\n",
       "      <td>15.984169</td>\n",
       "      <td>20.502174</td>\n",
       "      <td>37.557506</td>\n",
       "      <td>10.702520</td>\n",
       "      <td>18.995861</td>\n",
       "      <td>11.977590</td>\n",
       "    </tr>\n",
       "    <tr>\n",
       "      <th>31</th>\n",
       "      <td>23.165529</td>\n",
       "      <td>9.897616</td>\n",
       "      <td>10.463554</td>\n",
       "      <td>9.429189</td>\n",
       "      <td>15.821055</td>\n",
       "      <td>14.059610</td>\n",
       "      <td>5.548009</td>\n",
       "      <td>30.102911</td>\n",
       "      <td>18.080977</td>\n",
       "      <td>15.059878</td>\n",
       "    </tr>\n",
       "    <tr>\n",
       "      <th>32</th>\n",
       "      <td>17.817273</td>\n",
       "      <td>26.074054</td>\n",
       "      <td>26.262574</td>\n",
       "      <td>31.639008</td>\n",
       "      <td>13.894720</td>\n",
       "      <td>49.942595</td>\n",
       "      <td>0.544130</td>\n",
       "      <td>7.229560</td>\n",
       "      <td>27.405940</td>\n",
       "      <td>18.695652</td>\n",
       "    </tr>\n",
       "    <tr>\n",
       "      <th>33</th>\n",
       "      <td>26.506697</td>\n",
       "      <td>12.475491</td>\n",
       "      <td>28.759075</td>\n",
       "      <td>26.614726</td>\n",
       "      <td>29.884389</td>\n",
       "      <td>6.496984</td>\n",
       "      <td>13.228164</td>\n",
       "      <td>29.737218</td>\n",
       "      <td>19.913229</td>\n",
       "      <td>17.977265</td>\n",
       "    </tr>\n",
       "    <tr>\n",
       "      <th>34</th>\n",
       "      <td>1.204476</td>\n",
       "      <td>37.155684</td>\n",
       "      <td>9.270425</td>\n",
       "      <td>18.976416</td>\n",
       "      <td>34.428537</td>\n",
       "      <td>22.663872</td>\n",
       "      <td>12.654010</td>\n",
       "      <td>5.705055</td>\n",
       "      <td>17.756469</td>\n",
       "      <td>36.962189</td>\n",
       "    </tr>\n",
       "    <tr>\n",
       "      <th>35</th>\n",
       "      <td>7.534135</td>\n",
       "      <td>11.614547</td>\n",
       "      <td>30.238235</td>\n",
       "      <td>47.987283</td>\n",
       "      <td>20.302559</td>\n",
       "      <td>3.249226</td>\n",
       "      <td>17.072194</td>\n",
       "      <td>22.333842</td>\n",
       "      <td>9.382286</td>\n",
       "      <td>28.667410</td>\n",
       "    </tr>\n",
       "    <tr>\n",
       "      <th>36</th>\n",
       "      <td>10.269124</td>\n",
       "      <td>25.800587</td>\n",
       "      <td>49.434714</td>\n",
       "      <td>39.438373</td>\n",
       "      <td>32.977586</td>\n",
       "      <td>5.673104</td>\n",
       "      <td>1.781834</td>\n",
       "      <td>48.147802</td>\n",
       "      <td>49.861266</td>\n",
       "      <td>9.549946</td>\n",
       "    </tr>\n",
       "    <tr>\n",
       "      <th>37</th>\n",
       "      <td>1.679551</td>\n",
       "      <td>22.546229</td>\n",
       "      <td>25.028371</td>\n",
       "      <td>34.567647</td>\n",
       "      <td>15.254913</td>\n",
       "      <td>18.676291</td>\n",
       "      <td>39.989288</td>\n",
       "      <td>14.035692</td>\n",
       "      <td>26.532216</td>\n",
       "      <td>22.792065</td>\n",
       "    </tr>\n",
       "    <tr>\n",
       "      <th>38</th>\n",
       "      <td>34.870874</td>\n",
       "      <td>12.062923</td>\n",
       "      <td>33.691626</td>\n",
       "      <td>19.715068</td>\n",
       "      <td>18.272835</td>\n",
       "      <td>27.545784</td>\n",
       "      <td>1.809349</td>\n",
       "      <td>46.898462</td>\n",
       "      <td>18.139465</td>\n",
       "      <td>11.661021</td>\n",
       "    </tr>\n",
       "    <tr>\n",
       "      <th>39</th>\n",
       "      <td>3.548040</td>\n",
       "      <td>20.209684</td>\n",
       "      <td>19.656624</td>\n",
       "      <td>31.864163</td>\n",
       "      <td>25.997314</td>\n",
       "      <td>0.553830</td>\n",
       "      <td>35.753506</td>\n",
       "      <td>3.232649</td>\n",
       "      <td>17.635220</td>\n",
       "      <td>11.559999</td>\n",
       "    </tr>\n",
       "    <tr>\n",
       "      <th>40</th>\n",
       "      <td>13.366033</td>\n",
       "      <td>13.707039</td>\n",
       "      <td>34.500235</td>\n",
       "      <td>23.116394</td>\n",
       "      <td>27.482170</td>\n",
       "      <td>31.895751</td>\n",
       "      <td>12.781879</td>\n",
       "      <td>18.189214</td>\n",
       "      <td>17.681920</td>\n",
       "      <td>33.061807</td>\n",
       "    </tr>\n",
       "    <tr>\n",
       "      <th>41</th>\n",
       "      <td>3.950274</td>\n",
       "      <td>10.492658</td>\n",
       "      <td>33.823570</td>\n",
       "      <td>15.996040</td>\n",
       "      <td>19.019034</td>\n",
       "      <td>4.585402</td>\n",
       "      <td>22.200923</td>\n",
       "      <td>56.025684</td>\n",
       "      <td>40.288950</td>\n",
       "      <td>12.298093</td>\n",
       "    </tr>\n",
       "    <tr>\n",
       "      <th>42</th>\n",
       "      <td>4.664843</td>\n",
       "      <td>32.356748</td>\n",
       "      <td>35.535390</td>\n",
       "      <td>14.709471</td>\n",
       "      <td>17.504142</td>\n",
       "      <td>22.546489</td>\n",
       "      <td>27.582803</td>\n",
       "      <td>14.589289</td>\n",
       "      <td>48.318855</td>\n",
       "      <td>22.106622</td>\n",
       "    </tr>\n",
       "    <tr>\n",
       "      <th>43</th>\n",
       "      <td>8.136822</td>\n",
       "      <td>13.535150</td>\n",
       "      <td>21.903188</td>\n",
       "      <td>10.697075</td>\n",
       "      <td>10.426118</td>\n",
       "      <td>28.748127</td>\n",
       "      <td>16.332092</td>\n",
       "      <td>33.934607</td>\n",
       "      <td>26.286119</td>\n",
       "      <td>60.000000</td>\n",
       "    </tr>\n",
       "    <tr>\n",
       "      <th>44</th>\n",
       "      <td>28.295757</td>\n",
       "      <td>22.036282</td>\n",
       "      <td>48.424268</td>\n",
       "      <td>24.784703</td>\n",
       "      <td>41.437238</td>\n",
       "      <td>0.062906</td>\n",
       "      <td>40.008105</td>\n",
       "      <td>18.073233</td>\n",
       "      <td>23.214578</td>\n",
       "      <td>39.247507</td>\n",
       "    </tr>\n",
       "    <tr>\n",
       "      <th>45</th>\n",
       "      <td>24.808727</td>\n",
       "      <td>11.418740</td>\n",
       "      <td>24.051138</td>\n",
       "      <td>33.027015</td>\n",
       "      <td>24.838067</td>\n",
       "      <td>17.460130</td>\n",
       "      <td>12.595379</td>\n",
       "      <td>31.639951</td>\n",
       "      <td>10.456252</td>\n",
       "      <td>10.361826</td>\n",
       "    </tr>\n",
       "    <tr>\n",
       "      <th>46</th>\n",
       "      <td>9.782053</td>\n",
       "      <td>12.168356</td>\n",
       "      <td>32.744544</td>\n",
       "      <td>14.103582</td>\n",
       "      <td>32.015211</td>\n",
       "      <td>8.679609</td>\n",
       "      <td>25.330024</td>\n",
       "      <td>21.230605</td>\n",
       "      <td>60.000000</td>\n",
       "      <td>23.020514</td>\n",
       "    </tr>\n",
       "    <tr>\n",
       "      <th>47</th>\n",
       "      <td>2.438080</td>\n",
       "      <td>17.025026</td>\n",
       "      <td>14.555416</td>\n",
       "      <td>25.361097</td>\n",
       "      <td>15.838776</td>\n",
       "      <td>12.936283</td>\n",
       "      <td>5.739870</td>\n",
       "      <td>4.977422</td>\n",
       "      <td>29.575528</td>\n",
       "      <td>25.947061</td>\n",
       "    </tr>\n",
       "    <tr>\n",
       "      <th>48</th>\n",
       "      <td>31.641609</td>\n",
       "      <td>18.787834</td>\n",
       "      <td>21.511244</td>\n",
       "      <td>14.716543</td>\n",
       "      <td>26.320254</td>\n",
       "      <td>12.441082</td>\n",
       "      <td>43.123952</td>\n",
       "      <td>14.849948</td>\n",
       "      <td>44.978574</td>\n",
       "      <td>13.966244</td>\n",
       "    </tr>\n",
       "    <tr>\n",
       "      <th>49</th>\n",
       "      <td>24.247804</td>\n",
       "      <td>26.292905</td>\n",
       "      <td>60.000000</td>\n",
       "      <td>35.324496</td>\n",
       "      <td>17.926226</td>\n",
       "      <td>6.274465</td>\n",
       "      <td>29.598034</td>\n",
       "      <td>20.822737</td>\n",
       "      <td>21.749836</td>\n",
       "      <td>27.680942</td>\n",
       "    </tr>\n",
       "  </tbody>\n",
       "</table>\n",
       "</div>"
      ],
      "text/plain": [
       "            0          1          2          3          4          5  \\\n",
       "0   18.074201  23.066936  60.000000  20.711322  60.000000  28.763525   \n",
       "1   13.086849  10.323111  19.974086  38.248952  25.587832  53.735452   \n",
       "2    2.272670  17.602005  22.705996  19.140288  24.739332  12.594575   \n",
       "3   20.283832  28.179423  36.580909  38.064844  29.033290   9.057918   \n",
       "4   26.357661  60.000000  29.650851  20.149923  44.583438   5.217009   \n",
       "5   45.342706   9.259463  10.029454  35.167710  14.413221  26.552184   \n",
       "6   47.139108  25.335681  10.954845  19.216845  45.489924  48.642575   \n",
       "7    1.427794  12.321790  31.902779  18.709343  22.324181  13.551915   \n",
       "8    7.846927  60.000000  26.200162  26.720212  19.633351  31.817556   \n",
       "9   26.665037  14.995325  20.649107  25.755907  18.867057  10.498226   \n",
       "10   0.922640  60.000000  11.326179  23.560684  22.050686   0.172303   \n",
       "11   4.326630  27.751354  21.395401  19.939066  23.044234  28.377354   \n",
       "12   9.157503  37.444383  22.488169  27.579036  33.046569  30.581410   \n",
       "13  29.647979  60.000000  10.276356  18.532377  50.371736  14.600049   \n",
       "14   8.742000  13.402487  13.829782  40.112201  33.829378  15.207540   \n",
       "15  25.571023  18.113789  30.915942  26.935311  45.771603  15.868325   \n",
       "16  10.862005  43.721057  54.936913  25.452780  34.154762   4.038185   \n",
       "17   4.951999  11.777482  19.827426  12.798417  34.864567   1.881381   \n",
       "18  12.602611  44.989141  31.756518  60.000000  50.767570  20.788953   \n",
       "19  11.634356  18.588259  24.700600  17.620996  43.425558  45.023374   \n",
       "20  34.598150  23.195795  26.490087  12.446582  30.696737   5.961492   \n",
       "21   8.010439  17.133937  21.597454  17.322758  12.003452  13.956856   \n",
       "22  14.213581  13.013907  42.684656  52.144749  43.825369  20.861080   \n",
       "23  17.283408  45.924542  51.593317  55.568849  33.648052  15.822137   \n",
       "24   7.231297  18.351918  15.818481  28.129001  31.764006   7.846267   \n",
       "25  37.431148  14.271629  10.372286  18.130455   9.777123  43.152748   \n",
       "26  60.000000  27.090419  28.996761  14.138737  44.961747  15.467501   \n",
       "27  15.263485  24.453000  39.158395  29.291996  24.467756  28.393238   \n",
       "28  19.726142  19.591767  17.227544  15.210792  31.066936   7.544668   \n",
       "29  53.398856  35.515243  24.882107  23.198237  16.201861  11.142045   \n",
       "30   1.999801  41.338417  19.234954  34.182026  15.984169  20.502174   \n",
       "31  23.165529   9.897616  10.463554   9.429189  15.821055  14.059610   \n",
       "32  17.817273  26.074054  26.262574  31.639008  13.894720  49.942595   \n",
       "33  26.506697  12.475491  28.759075  26.614726  29.884389   6.496984   \n",
       "34   1.204476  37.155684   9.270425  18.976416  34.428537  22.663872   \n",
       "35   7.534135  11.614547  30.238235  47.987283  20.302559   3.249226   \n",
       "36  10.269124  25.800587  49.434714  39.438373  32.977586   5.673104   \n",
       "37   1.679551  22.546229  25.028371  34.567647  15.254913  18.676291   \n",
       "38  34.870874  12.062923  33.691626  19.715068  18.272835  27.545784   \n",
       "39   3.548040  20.209684  19.656624  31.864163  25.997314   0.553830   \n",
       "40  13.366033  13.707039  34.500235  23.116394  27.482170  31.895751   \n",
       "41   3.950274  10.492658  33.823570  15.996040  19.019034   4.585402   \n",
       "42   4.664843  32.356748  35.535390  14.709471  17.504142  22.546489   \n",
       "43   8.136822  13.535150  21.903188  10.697075  10.426118  28.748127   \n",
       "44  28.295757  22.036282  48.424268  24.784703  41.437238   0.062906   \n",
       "45  24.808727  11.418740  24.051138  33.027015  24.838067  17.460130   \n",
       "46   9.782053  12.168356  32.744544  14.103582  32.015211   8.679609   \n",
       "47   2.438080  17.025026  14.555416  25.361097  15.838776  12.936283   \n",
       "48  31.641609  18.787834  21.511244  14.716543  26.320254  12.441082   \n",
       "49  24.247804  26.292905  60.000000  35.324496  17.926226   6.274465   \n",
       "\n",
       "            6          7          8          9  \n",
       "0   42.427278  15.598740  13.465411  13.196517  \n",
       "1   16.635397  16.495615  44.782381  23.109105  \n",
       "2   41.966899  13.633330  25.891547  14.908281  \n",
       "3   60.000000  20.301198  18.622461  13.755511  \n",
       "4   48.860477  37.083126  18.306000   9.591119  \n",
       "5    3.281541   9.668325  15.764203  19.503650  \n",
       "6   26.566834   3.103062  12.845208  34.832844  \n",
       "7   20.291572  28.838343  41.150187  42.268679  \n",
       "8   33.593050   2.118014  40.808585  24.551126  \n",
       "9    2.170260   3.044227  13.793600  14.054273  \n",
       "10  32.466781  25.394094  23.179101  26.588131  \n",
       "11  41.063390   2.535108  47.836518  50.371135  \n",
       "12  24.489401  11.408426  12.707566  23.685907  \n",
       "13   6.179677   0.599478   9.884708  31.209116  \n",
       "14   7.091670  32.604269  30.323622  31.973945  \n",
       "15   9.154542  26.951625  24.522718  14.945380  \n",
       "16  13.411006  41.784804  20.798726   9.617624  \n",
       "17  50.341528  24.640953  13.600837  24.316330  \n",
       "18  10.415866   5.427315  32.450598  38.791586  \n",
       "19  21.967371   9.176215  27.008075  24.106791  \n",
       "20   2.909811   0.472434  39.430237  44.301112  \n",
       "21  17.423311   4.319208  49.054840  47.313228  \n",
       "22  39.967672  16.577972  13.891236  35.827849  \n",
       "23  35.904421   8.848024  24.704299  11.604016  \n",
       "24  22.262767  12.155190  25.912714  27.630061  \n",
       "25   3.728966  49.090144  18.187796  51.745546  \n",
       "26   2.651519  18.647221  19.375649  19.259184  \n",
       "27  30.909583  15.293277  35.231897  26.813921  \n",
       "28  17.086464  16.578254  21.923898  18.220372  \n",
       "29   0.376473   3.806705  37.843522  21.460346  \n",
       "30  37.557506  10.702520  18.995861  11.977590  \n",
       "31   5.548009  30.102911  18.080977  15.059878  \n",
       "32   0.544130   7.229560  27.405940  18.695652  \n",
       "33  13.228164  29.737218  19.913229  17.977265  \n",
       "34  12.654010   5.705055  17.756469  36.962189  \n",
       "35  17.072194  22.333842   9.382286  28.667410  \n",
       "36   1.781834  48.147802  49.861266   9.549946  \n",
       "37  39.989288  14.035692  26.532216  22.792065  \n",
       "38   1.809349  46.898462  18.139465  11.661021  \n",
       "39  35.753506   3.232649  17.635220  11.559999  \n",
       "40  12.781879  18.189214  17.681920  33.061807  \n",
       "41  22.200923  56.025684  40.288950  12.298093  \n",
       "42  27.582803  14.589289  48.318855  22.106622  \n",
       "43  16.332092  33.934607  26.286119  60.000000  \n",
       "44  40.008105  18.073233  23.214578  39.247507  \n",
       "45  12.595379  31.639951  10.456252  10.361826  \n",
       "46  25.330024  21.230605  60.000000  23.020514  \n",
       "47   5.739870   4.977422  29.575528  25.947061  \n",
       "48  43.123952  14.849948  44.978574  13.966244  \n",
       "49  29.598034  20.822737  21.749836  27.680942  "
      ]
     },
     "execution_count": 16,
     "metadata": {},
     "output_type": "execute_result"
    }
   ],
   "source": [
    "# the other way around: create a new dataframe from a given\n",
    "# NumPy array:\n",
    "df2 = pd.DataFrame(data=dummy)\n",
    "df2"
   ]
  },
  {
   "cell_type": "code",
   "execution_count": 18,
   "metadata": {},
   "outputs": [],
   "source": [
    "df2.to_csv(\"Data/outcsv_df2.csv\")\n",
    "# there is also an Excel export. But I have to look it up (one\n",
    "# needs an \"ExcelWriter\" module)"
   ]
  },
  {
   "cell_type": "code",
   "execution_count": 22,
   "metadata": {
    "code_folding": [],
    "scrolled": false
   },
   "outputs": [
    {
     "data": {
      "image/png": "[encoded data removed]",
      "text/plain": [
       "<Figure size 216x360 with 1 Axes>"
      ]
     },
     "metadata": {
      "needs_background": "light"
     },
     "output_type": "display_data"
    },
    {
     "data": {
      "image/png": "[encoded data removed]",
      "text/plain": [
       "<Figure size 360x432 with 1 Axes>"
      ]
     },
     "metadata": {
      "needs_background": "light"
     },
     "output_type": "display_data"
    },
    {
     "name": "stdout",
     "output_type": "stream",
     "text": [
      "no significant difference (p-value: [0.1858791])\n"
     ]
    }
   ],
   "source": [
    "# Your solution 4.7-4.8 here:\n"
   ]
  },
  {
   "cell_type": "markdown",
   "metadata": {},
   "source": [
    "<details>\n",
    "<summary><strong>Toggle solution</strong></summary>\n",
    "\n",
    "~~~python\n",
    "# Solution 4.7-4.8:\n",
    "\n",
    "# %% FUNCTION DEFINITIONS\n",
    "def normal_unpaired_sigtest(A, B):\n",
    "    test_result = pg.ttest(A, B, paired=False)\n",
    "    p_value = test_result[\"p-val\"].values\n",
    "    cohen_d = test_result[\"cohen-d\"].values\n",
    "\n",
    "    if p_value>0.05:\n",
    "        print(f\"no significant difference (p-value: {p_value})\")\n",
    "    else:\n",
    "        print(f\"here is a significant difference \"\n",
    "              f\"(p-value: {p_value}, cohen-d:{cohen_d})\")\n",
    "\n",
    "    return p_value, cohen_d\n",
    "\n",
    "def notnormal_unpaired_sigtest(A, B):\n",
    "    test_result = pg.mwu(A, B)\n",
    "    p_value = test_result[\"p-val\"].values\n",
    "\n",
    "    if p_value>0.05:\n",
    "        print(f\"no significant difference (p-value: {p_value})\")\n",
    "    else:\n",
    "        print(f\"here is a significant difference \"\n",
    "              f\"(p-value: {p_value})\")\n",
    "\n",
    "    return p_value\n",
    "\n",
    "# VIOLIN-PLOTS:\n",
    "def my_violin_AB_plot(A, B, A_label=\"A\", B_label=\"B\",\n",
    "                     title=\"\"):\n",
    "    \"\"\" This is Group A vs Group B Violin plot function.\n",
    "        Written by me on 2021, April\n",
    "        \n",
    "        A     Group A sample data\n",
    "        B     Group B sample data\n",
    "        A_label....\n",
    "    \"\"\"\n",
    "    fig=plt.figure(3, figsize=(5,6))\n",
    "    fig.clf()\n",
    "\n",
    "    x_ticks_A = np.ones(len(A))\n",
    "    x_ticks_B = np.ones(len(B))\n",
    "\n",
    "    plt.violinplot([A, B], showmedians=True)\n",
    "    plt.boxplot([A, B])\n",
    "    \n",
    "    plt.xticks([1,2], labels=[A_label, B_label], fontsize=14,\n",
    "              fontweight=\"bold\")\n",
    "    plt.xlabel(\"Groups\")\n",
    "    plt.ylabel(\"measurments\")\n",
    "    plt.title(title, fontweight=\"bold\")\n",
    "    plt.tight_layout\n",
    "    # plt.ylim(-40, 40)\n",
    "    \n",
    "    # some add-on commands (remove some borders):\n",
    "    axis = plt.gca()\n",
    "    axis.spines['right'].set_visible(False)\n",
    "    axis.spines['top'].set_visible(False)\n",
    "    axis.spines['bottom'].set_visible(False)\n",
    "    axis.spines['left'].set_visible(False)\n",
    "    \n",
    "    plt.show()\n",
    "\n",
    "# BAR-PLOT:\n",
    "def my_bar_AB_plot(A, B, A_label=\"A\", B_label=\"B\", title=\"\"):\n",
    "    fig=plt.figure(1, figsize=(3,5))\n",
    "    fig.clf()\n",
    "\n",
    "    plt.bar([1, 2], [A.mean(), B.mean()], alpha=0.25)\n",
    "\n",
    "    plt.xticks([1,2], labels=[A_label, B_label])\n",
    "    plt.xlabel(\"Groups\")\n",
    "    plt.ylabel(\"measurments\")\n",
    "    #plt.title(\"Bar-plot of group averages\")\n",
    "    plt.title(title, fontweight=\"bold\")\n",
    "    \n",
    "    # some add-on commands (remove some borders):\n",
    "    axis = plt.gca()\n",
    "    axis.spines['right'].set_visible(False)\n",
    "    axis.spines['top'].set_visible(False)\n",
    "    axis.spines['bottom'].set_visible(False)\n",
    "    axis.spines['left'].set_visible(False)\n",
    "\n",
    "    plt.tight_layout\n",
    "    plt.show()\n",
    "\n",
    "\n",
    "\n",
    "# %% STATISTICAL ANALYSIS AND PLOT:\n",
    "\"\"\" Please note, that the followin 3 commands per group \n",
    "    comparison has become the MAIN PART OF OUR ANALYSIS\n",
    "    script, i.e., only execute these three commands to \n",
    "    get your plots and significance test. How the sign-\n",
    "    ficance test is calculated and how the plots are \n",
    "    generated is done in our function, which we don't have \n",
    "    to touch, change and care about anymore.\n",
    "\"\"\"\n",
    "\n",
    "# Group A vs B:\n",
    "my_bar_AB_plot(A=Group_A, B=Group_B, A_label=\"A\", B_label=\"B\", \n",
    "               title=\"Group A vs B averages\")\n",
    "my_violin_AB_plot(A=Group_A, B=Group_B, A_label=\"A\", B_label=\"B\",\n",
    "                     title=\"Group A vs. B\")\n",
    "pvalue_1, cohen_d_1 = normal_unpaired_sigtest(Group_A, Group_B)\n",
    "~~~\n",
    "</details>"
   ]
  },
  {
   "cell_type": "markdown",
   "metadata": {},
   "source": [
    "<br>"
   ]
  },
  {
   "cell_type": "markdown",
   "metadata": {},
   "source": [
    "## Outlook\n",
    "We can also easily and quickly plot all data columns of an _Excel_ file via:"
   ]
  },
  {
   "cell_type": "code",
   "execution_count": 23,
   "metadata": {},
   "outputs": [
    {
     "data": {
      "text/plain": [
       "[<matplotlib.lines.Line2D at 0x7fc7184ceb20>,\n",
       " <matplotlib.lines.Line2D at 0x7fc7184ced90>,\n",
       " <matplotlib.lines.Line2D at 0x7fc70b57c850>,\n",
       " <matplotlib.lines.Line2D at 0x7fc7295b6cd0>,\n",
       " <matplotlib.lines.Line2D at 0x7fc7295b6df0>,\n",
       " <matplotlib.lines.Line2D at 0x7fc7295b6f10>,\n",
       " <matplotlib.lines.Line2D at 0x7fc738893070>,\n",
       " <matplotlib.lines.Line2D at 0x7fc738893190>,\n",
       " <matplotlib.lines.Line2D at 0x7fc7388932b0>,\n",
       " <matplotlib.lines.Line2D at 0x7fc7388933d0>]"
      ]
     },
     "execution_count": 23,
     "metadata": {},
     "output_type": "execute_result"
    },
    {
     "data": {
      "image/png": "[encoded data removed]",
      "text/plain": [
       "<Figure size 432x288 with 1 Axes>"
      ]
     },
     "metadata": {
      "needs_background": "light"
     },
     "output_type": "display_data"
    }
   ],
   "source": [
    "# Matplotlib:\n",
    "plt.plot(Group_A_df)"
   ]
  },
  {
   "cell_type": "code",
   "execution_count": 24,
   "metadata": {
    "scrolled": false
   },
   "outputs": [
    {
     "data": {
      "text/plain": [
       "<AxesSubplot:>"
      ]
     },
     "execution_count": 24,
     "metadata": {},
     "output_type": "execute_result"
    },
    {
     "data": {
      "image/png": "[encoded data removed]",
      "text/plain": [
       "<Figure size 432x288 with 1 Axes>"
      ]
     },
     "metadata": {
      "needs_background": "light"
     },
     "output_type": "display_data"
    }
   ],
   "source": [
    "# or use the Pandas built-in plot function:\n",
    "Group_A_df.plot()"
   ]
  },
  {
   "cell_type": "markdown",
   "metadata": {},
   "source": [
    "Also, we can easily plot the _Grand_ average over all columns via:"
   ]
  },
  {
   "cell_type": "code",
   "execution_count": 25,
   "metadata": {},
   "outputs": [
    {
     "data": {
      "text/plain": [
       "<matplotlib.legend.Legend at 0x7fc738950e20>"
      ]
     },
     "execution_count": 25,
     "metadata": {},
     "output_type": "execute_result"
    },
    {
     "data": {
      "image/png": "[encoded data removed]",
      "text/plain": [
       "<Figure size 432x288 with 1 Axes>"
      ]
     },
     "metadata": {
      "needs_background": "light"
     },
     "output_type": "display_data"
    }
   ],
   "source": [
    "#Group_A_df.plot()\n",
    "Group_A_df.plot(xlabel=\"time\", ylabel=\"voltage\")\n",
    "#Group_A_df.mean(axis=1).plot()\n",
    "Group_A_df.mean(axis=1).plot(lw=5, c=\"k\", label=\"average\")\n",
    "plt.legend(loc=\"best\",bbox_to_anchor=(1.05, 1), title=\"Legend:\")"
   ]
  }
 ],
 "metadata": {
  "hide_input": false,
  "kernelspec": {
   "display_name": "Python 3 (ipykernel)",
   "language": "python",
   "name": "python3"
  },
  "language_info": {
   "codemirror_mode": {
    "name": "ipython",
    "version": 3
   },
   "file_extension": ".py",
   "mimetype": "text/x-python",
   "name": "python",
   "nbconvert_exporter": "python",
   "pygments_lexer": "ipython3",
   "version": "3.9.5"
  },
  "toc": {
   "base_numbering": 1,
   "nav_menu": {},
   "number_sections": true,
   "sideBar": true,
   "skip_h1_title": true,
   "title_cell": "Statistical data analysis with Pandas and Pingouin (extended)",
   "title_sidebar": "Contents",
   "toc_cell": true,
   "toc_position": {},
   "toc_section_display": true,
   "toc_window_display": false
  }
 },
 "nbformat": 4,
 "nbformat_minor": 4
}
